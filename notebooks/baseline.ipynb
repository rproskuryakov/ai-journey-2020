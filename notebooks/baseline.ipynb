{
 "cells": [
  {
   "cell_type": "code",
   "execution_count": 4,
   "metadata": {},
   "outputs": [
    {
     "name": "stdout",
     "output_type": "stream",
     "text": [
      "Collecting editdistance\n",
      "  Downloading editdistance-0.5.3.tar.gz (27 kB)\n",
      "Building wheels for collected packages: editdistance\n",
      "  Building wheel for editdistance (setup.py) ... \u001b[?25lerror\n",
      "\u001b[31m  ERROR: Command errored out with exit status 1:\n",
      "   command: /home/rodion/Projects/ai-journey-2020/.venv/bin/python3 -u -c 'import sys, setuptools, tokenize; sys.argv[0] = '\"'\"'/tmp/pip-install-0ogesmmt/editdistance/setup.py'\"'\"'; __file__='\"'\"'/tmp/pip-install-0ogesmmt/editdistance/setup.py'\"'\"';f=getattr(tokenize, '\"'\"'open'\"'\"', open)(__file__);code=f.read().replace('\"'\"'\\r\\n'\"'\"', '\"'\"'\\n'\"'\"');f.close();exec(compile(code, __file__, '\"'\"'exec'\"'\"'))' bdist_wheel -d /tmp/pip-wheel-igmka6eu\n",
      "       cwd: /tmp/pip-install-0ogesmmt/editdistance/\n",
      "  Complete output (76 lines):\n",
      "  running bdist_wheel\n",
      "  running build\n",
      "  running build_py\n",
      "  creating build\n",
      "  creating build/lib.linux-x86_64-3.8\n",
      "  creating build/lib.linux-x86_64-3.8/editdistance\n",
      "  copying editdistance/__init__.py -> build/lib.linux-x86_64-3.8/editdistance\n",
      "  copying editdistance/_editdistance.h -> build/lib.linux-x86_64-3.8/editdistance\n",
      "  copying editdistance/def.h -> build/lib.linux-x86_64-3.8/editdistance\n",
      "  running build_ext\n",
      "  building 'editdistance.bycython' extension\n",
      "  creating build/temp.linux-x86_64-3.8\n",
      "  creating build/temp.linux-x86_64-3.8/editdistance\n",
      "  x86_64-linux-gnu-gcc -pthread -Wno-unused-result -Wsign-compare -DNDEBUG -g -fwrapv -O2 -Wall -g -fstack-protector-strong -Wformat -Werror=format-security -g -fwrapv -O2 -g -fstack-protector-strong -Wformat -Werror=format-security -Wdate-time -D_FORTIFY_SOURCE=2 -fPIC -I./editdistance -I/home/rodion/Projects/ai-journey-2020/.venv/include -I/usr/include/python3.8 -c editdistance/_editdistance.cpp -o build/temp.linux-x86_64-3.8/editdistance/_editdistance.o\n",
      "  editdistance/_editdistance.cpp: In instantiation of ‘unsigned int edit_distance_dp(const T*, size_t, const T*, size_t) [with T = long int; size_t = long unsigned int]’:\n",
      "  editdistance/_editdistance.cpp:129:62:   required from here\n",
      "  editdistance/_editdistance.cpp:68:23: warning: comparison of integer expressions of different signedness: ‘int’ and ‘long unsigned int’ [-Wsign-compare]\n",
      "     68 |     for (int i = 0; i < size1 + 1; i++) d[i][0] = i;\n",
      "        |                     ~~^~~~~~~~~~~\n",
      "  editdistance/_editdistance.cpp:69:23: warning: comparison of integer expressions of different signedness: ‘int’ and ‘long unsigned int’ [-Wsign-compare]\n",
      "     69 |     for (int i = 0; i < size2 + 1; i++) d[0][i] = i;\n",
      "        |                     ~~^~~~~~~~~~~\n",
      "  editdistance/_editdistance.cpp:70:23: warning: comparison of integer expressions of different signedness: ‘int’ and ‘long unsigned int’ [-Wsign-compare]\n",
      "     70 |     for (int i = 1; i < size1 + 1; i++) {\n",
      "        |                     ~~^~~~~~~~~~~\n",
      "  editdistance/_editdistance.cpp:71:27: warning: comparison of integer expressions of different signedness: ‘int’ and ‘long unsigned int’ [-Wsign-compare]\n",
      "     71 |         for (int j = 1; j < size2 + 1; j++) {\n",
      "        |                         ~~^~~~~~~~~~~\n",
      "  editdistance/_editdistance.cpp: In instantiation of ‘unsigned int edit_distance_bpv(T&, const int64_t*, const size_t&, const unsigned int&, const unsigned int&) [with T = std::map<long int, varr<1>, std::less<long int>, std::allocator<std::pair<const long int, varr<1> > > >; TVALUE = varr<1>; int64_t = long int; size_t = long unsigned int]’:\n",
      "  editdistance/_editdistance.cpp:97:67:   required from ‘unsigned int edit_distance_map_(const int64_t*, size_t, const int64_t*, size_t) [with long unsigned int N = 1; int64_t = long int; size_t = long unsigned int]’\n",
      "  editdistance/_editdistance.cpp:119:73:   required from here\n",
      "  editdistance/_editdistance.cpp:44:26: warning: comparison of integer expressions of different signedness: ‘int’ and ‘const unsigned int’ [-Wsign-compare]\n",
      "     44 |         for(int r = 0; r <= tmax; ++r) {\n",
      "        |                        ~~^~~~~~~\n",
      "  editdistance/_editdistance.cpp: In instantiation of ‘unsigned int edit_distance_bpv(T&, const int64_t*, const size_t&, const unsigned int&, const unsigned int&) [with T = std::map<long int, varr<2>, std::less<long int>, std::allocator<std::pair<const long int, varr<2> > > >; TVALUE = varr<2>; int64_t = long int; size_t = long unsigned int]’:\n",
      "  editdistance/_editdistance.cpp:97:67:   required from ‘unsigned int edit_distance_map_(const int64_t*, size_t, const int64_t*, size_t) [with long unsigned int N = 2; int64_t = long int; size_t = long unsigned int]’\n",
      "  editdistance/_editdistance.cpp:120:78:   required from here\n",
      "  editdistance/_editdistance.cpp:44:26: warning: comparison of integer expressions of different signedness: ‘int’ and ‘const unsigned int’ [-Wsign-compare]\n",
      "  editdistance/_editdistance.cpp: In instantiation of ‘unsigned int edit_distance_bpv(T&, const int64_t*, const size_t&, const unsigned int&, const unsigned int&) [with T = std::map<long int, varr<3>, std::less<long int>, std::allocator<std::pair<const long int, varr<3> > > >; TVALUE = varr<3>; int64_t = long int; size_t = long unsigned int]’:\n",
      "  editdistance/_editdistance.cpp:97:67:   required from ‘unsigned int edit_distance_map_(const int64_t*, size_t, const int64_t*, size_t) [with long unsigned int N = 3; int64_t = long int; size_t = long unsigned int]’\n",
      "  editdistance/_editdistance.cpp:121:78:   required from here\n",
      "  editdistance/_editdistance.cpp:44:26: warning: comparison of integer expressions of different signedness: ‘int’ and ‘const unsigned int’ [-Wsign-compare]\n",
      "  editdistance/_editdistance.cpp: In instantiation of ‘unsigned int edit_distance_bpv(T&, const int64_t*, const size_t&, const unsigned int&, const unsigned int&) [with T = std::map<long int, varr<4>, std::less<long int>, std::allocator<std::pair<const long int, varr<4> > > >; TVALUE = varr<4>; int64_t = long int; size_t = long unsigned int]’:\n",
      "  editdistance/_editdistance.cpp:97:67:   required from ‘unsigned int edit_distance_map_(const int64_t*, size_t, const int64_t*, size_t) [with long unsigned int N = 4; int64_t = long int; size_t = long unsigned int]’\n",
      "  editdistance/_editdistance.cpp:122:78:   required from here\n",
      "  editdistance/_editdistance.cpp:44:26: warning: comparison of integer expressions of different signedness: ‘int’ and ‘const unsigned int’ [-Wsign-compare]\n",
      "  editdistance/_editdistance.cpp: In instantiation of ‘unsigned int edit_distance_bpv(T&, const int64_t*, const size_t&, const unsigned int&, const unsigned int&) [with T = std::map<long int, varr<5>, std::less<long int>, std::allocator<std::pair<const long int, varr<5> > > >; TVALUE = varr<5>; int64_t = long int; size_t = long unsigned int]’:\n",
      "  editdistance/_editdistance.cpp:97:67:   required from ‘unsigned int edit_distance_map_(const int64_t*, size_t, const int64_t*, size_t) [with long unsigned int N = 5; int64_t = long int; size_t = long unsigned int]’\n",
      "  editdistance/_editdistance.cpp:123:78:   required from here\n",
      "  editdistance/_editdistance.cpp:44:26: warning: comparison of integer expressions of different signedness: ‘int’ and ‘const unsigned int’ [-Wsign-compare]\n",
      "  editdistance/_editdistance.cpp: In instantiation of ‘unsigned int edit_distance_bpv(T&, const int64_t*, const size_t&, const unsigned int&, const unsigned int&) [with T = std::map<long int, varr<6>, std::less<long int>, std::allocator<std::pair<const long int, varr<6> > > >; TVALUE = varr<6>; int64_t = long int; size_t = long unsigned int]’:\n",
      "  editdistance/_editdistance.cpp:97:67:   required from ‘unsigned int edit_distance_map_(const int64_t*, size_t, const int64_t*, size_t) [with long unsigned int N = 6; int64_t = long int; size_t = long unsigned int]’\n",
      "  editdistance/_editdistance.cpp:124:78:   required from here\n",
      "  editdistance/_editdistance.cpp:44:26: warning: comparison of integer expressions of different signedness: ‘int’ and ‘const unsigned int’ [-Wsign-compare]\n",
      "  editdistance/_editdistance.cpp: In instantiation of ‘unsigned int edit_distance_bpv(T&, const int64_t*, const size_t&, const unsigned int&, const unsigned int&) [with T = std::map<long int, varr<7>, std::less<long int>, std::allocator<std::pair<const long int, varr<7> > > >; TVALUE = varr<7>; int64_t = long int; size_t = long unsigned int]’:\n",
      "  editdistance/_editdistance.cpp:97:67:   required from ‘unsigned int edit_distance_map_(const int64_t*, size_t, const int64_t*, size_t) [with long unsigned int N = 7; int64_t = long int; size_t = long unsigned int]’\n",
      "  editdistance/_editdistance.cpp:125:78:   required from here\n",
      "  editdistance/_editdistance.cpp:44:26: warning: comparison of integer expressions of different signedness: ‘int’ and ‘const unsigned int’ [-Wsign-compare]\n",
      "  editdistance/_editdistance.cpp: In instantiation of ‘unsigned int edit_distance_bpv(T&, const int64_t*, const size_t&, const unsigned int&, const unsigned int&) [with T = std::map<long int, varr<8>, std::less<long int>, std::allocator<std::pair<const long int, varr<8> > > >; TVALUE = varr<8>; int64_t = long int; size_t = long unsigned int]’:\n",
      "  editdistance/_editdistance.cpp:97:67:   required from ‘unsigned int edit_distance_map_(const int64_t*, size_t, const int64_t*, size_t) [with long unsigned int N = 8; int64_t = long int; size_t = long unsigned int]’\n",
      "  editdistance/_editdistance.cpp:126:78:   required from here\n",
      "  editdistance/_editdistance.cpp:44:26: warning: comparison of integer expressions of different signedness: ‘int’ and ‘const unsigned int’ [-Wsign-compare]\n",
      "  editdistance/_editdistance.cpp: In instantiation of ‘unsigned int edit_distance_bpv(T&, const int64_t*, const size_t&, const unsigned int&, const unsigned int&) [with T = std::map<long int, varr<9>, std::less<long int>, std::allocator<std::pair<const long int, varr<9> > > >; TVALUE = varr<9>; int64_t = long int; size_t = long unsigned int]’:\n",
      "  editdistance/_editdistance.cpp:97:67:   required from ‘unsigned int edit_distance_map_(const int64_t*, size_t, const int64_t*, size_t) [with long unsigned int N = 9; int64_t = long int; size_t = long unsigned int]’\n",
      "  editdistance/_editdistance.cpp:127:78:   required from here\n",
      "  editdistance/_editdistance.cpp:44:26: warning: comparison of integer expressions of different signedness: ‘int’ and ‘const unsigned int’ [-Wsign-compare]\n",
      "  editdistance/_editdistance.cpp: In instantiation of ‘unsigned int edit_distance_bpv(T&, const int64_t*, const size_t&, const unsigned int&, const unsigned int&) [with T = std::map<long int, varr<10>, std::less<long int>, std::allocator<std::pair<const long int, varr<10> > > >; TVALUE = varr<10>; int64_t = long int; size_t = long unsigned int]’:\n",
      "  editdistance/_editdistance.cpp:97:67:   required from ‘unsigned int edit_distance_map_(const int64_t*, size_t, const int64_t*, size_t) [with long unsigned int N = 10; int64_t = long int; size_t = long unsigned int]’\n",
      "  editdistance/_editdistance.cpp:128:80:   required from here\n",
      "  editdistance/_editdistance.cpp:44:26: warning: comparison of integer expressions of different signedness: ‘int’ and ‘const unsigned int’ [-Wsign-compare]\n",
      "  x86_64-linux-gnu-gcc -pthread -Wno-unused-result -Wsign-compare -DNDEBUG -g -fwrapv -O2 -Wall -g -fstack-protector-strong -Wformat -Werror=format-security -g -fwrapv -O2 -g -fstack-protector-strong -Wformat -Werror=format-security -Wdate-time -D_FORTIFY_SOURCE=2 -fPIC -I./editdistance -I/home/rodion/Projects/ai-journey-2020/.venv/include -I/usr/include/python3.8 -c editdistance/bycython.cpp -o build/temp.linux-x86_64-3.8/editdistance/bycython.o\n",
      "  editdistance/bycython.cpp:24:10: fatal error: Python.h: No such file or directory\n",
      "     24 | #include \"Python.h\"\n",
      "        |          ^~~~~~~~~~\n",
      "  compilation terminated.\n",
      "  error: command 'x86_64-linux-gnu-gcc' failed with exit status 1\n",
      "  ----------------------------------------\u001b[0m\n",
      "\u001b[31m  ERROR: Failed building wheel for editdistance\u001b[0m\n",
      "\u001b[?25h  Running setup.py clean for editdistance\n"
     ]
    },
    {
     "name": "stdout",
     "output_type": "stream",
     "text": [
      "Failed to build editdistance\n",
      "Installing collected packages: editdistance\n",
      "    Running setup.py install for editdistance ... \u001b[?25lerror\n",
      "\u001b[31m    ERROR: Command errored out with exit status 1:\n",
      "     command: /home/rodion/Projects/ai-journey-2020/.venv/bin/python3 -u -c 'import sys, setuptools, tokenize; sys.argv[0] = '\"'\"'/tmp/pip-install-0ogesmmt/editdistance/setup.py'\"'\"'; __file__='\"'\"'/tmp/pip-install-0ogesmmt/editdistance/setup.py'\"'\"';f=getattr(tokenize, '\"'\"'open'\"'\"', open)(__file__);code=f.read().replace('\"'\"'\\r\\n'\"'\"', '\"'\"'\\n'\"'\"');f.close();exec(compile(code, __file__, '\"'\"'exec'\"'\"'))' install --record /tmp/pip-record-_0tum404/install-record.txt --single-version-externally-managed --compile --install-headers /home/rodion/Projects/ai-journey-2020/.venv/include/site/python3.8/editdistance\n",
      "         cwd: /tmp/pip-install-0ogesmmt/editdistance/\n",
      "    Complete output (76 lines):\n",
      "    running install\n",
      "    running build\n",
      "    running build_py\n",
      "    creating build\n",
      "    creating build/lib.linux-x86_64-3.8\n",
      "    creating build/lib.linux-x86_64-3.8/editdistance\n",
      "    copying editdistance/__init__.py -> build/lib.linux-x86_64-3.8/editdistance\n",
      "    copying editdistance/_editdistance.h -> build/lib.linux-x86_64-3.8/editdistance\n",
      "    copying editdistance/def.h -> build/lib.linux-x86_64-3.8/editdistance\n",
      "    running build_ext\n",
      "    building 'editdistance.bycython' extension\n",
      "    creating build/temp.linux-x86_64-3.8\n",
      "    creating build/temp.linux-x86_64-3.8/editdistance\n",
      "    x86_64-linux-gnu-gcc -pthread -Wno-unused-result -Wsign-compare -DNDEBUG -g -fwrapv -O2 -Wall -g -fstack-protector-strong -Wformat -Werror=format-security -g -fwrapv -O2 -g -fstack-protector-strong -Wformat -Werror=format-security -Wdate-time -D_FORTIFY_SOURCE=2 -fPIC -I./editdistance -I/home/rodion/Projects/ai-journey-2020/.venv/include -I/usr/include/python3.8 -c editdistance/_editdistance.cpp -o build/temp.linux-x86_64-3.8/editdistance/_editdistance.o\n",
      "    editdistance/_editdistance.cpp: In instantiation of ‘unsigned int edit_distance_dp(const T*, size_t, const T*, size_t) [with T = long int; size_t = long unsigned int]’:\n",
      "    editdistance/_editdistance.cpp:129:62:   required from here\n",
      "    editdistance/_editdistance.cpp:68:23: warning: comparison of integer expressions of different signedness: ‘int’ and ‘long unsigned int’ [-Wsign-compare]\n",
      "       68 |     for (int i = 0; i < size1 + 1; i++) d[i][0] = i;\n",
      "          |                     ~~^~~~~~~~~~~\n",
      "    editdistance/_editdistance.cpp:69:23: warning: comparison of integer expressions of different signedness: ‘int’ and ‘long unsigned int’ [-Wsign-compare]\n",
      "       69 |     for (int i = 0; i < size2 + 1; i++) d[0][i] = i;\n",
      "          |                     ~~^~~~~~~~~~~\n",
      "    editdistance/_editdistance.cpp:70:23: warning: comparison of integer expressions of different signedness: ‘int’ and ‘long unsigned int’ [-Wsign-compare]\n",
      "       70 |     for (int i = 1; i < size1 + 1; i++) {\n",
      "          |                     ~~^~~~~~~~~~~\n",
      "    editdistance/_editdistance.cpp:71:27: warning: comparison of integer expressions of different signedness: ‘int’ and ‘long unsigned int’ [-Wsign-compare]\n",
      "       71 |         for (int j = 1; j < size2 + 1; j++) {\n",
      "          |                         ~~^~~~~~~~~~~\n",
      "    editdistance/_editdistance.cpp: In instantiation of ‘unsigned int edit_distance_bpv(T&, const int64_t*, const size_t&, const unsigned int&, const unsigned int&) [with T = std::map<long int, varr<1>, std::less<long int>, std::allocator<std::pair<const long int, varr<1> > > >; TVALUE = varr<1>; int64_t = long int; size_t = long unsigned int]’:\n",
      "    editdistance/_editdistance.cpp:97:67:   required from ‘unsigned int edit_distance_map_(const int64_t*, size_t, const int64_t*, size_t) [with long unsigned int N = 1; int64_t = long int; size_t = long unsigned int]’\n",
      "    editdistance/_editdistance.cpp:119:73:   required from here\n",
      "    editdistance/_editdistance.cpp:44:26: warning: comparison of integer expressions of different signedness: ‘int’ and ‘const unsigned int’ [-Wsign-compare]\n",
      "       44 |         for(int r = 0; r <= tmax; ++r) {\n",
      "          |                        ~~^~~~~~~\n",
      "    editdistance/_editdistance.cpp: In instantiation of ‘unsigned int edit_distance_bpv(T&, const int64_t*, const size_t&, const unsigned int&, const unsigned int&) [with T = std::map<long int, varr<2>, std::less<long int>, std::allocator<std::pair<const long int, varr<2> > > >; TVALUE = varr<2>; int64_t = long int; size_t = long unsigned int]’:\n",
      "    editdistance/_editdistance.cpp:97:67:   required from ‘unsigned int edit_distance_map_(const int64_t*, size_t, const int64_t*, size_t) [with long unsigned int N = 2; int64_t = long int; size_t = long unsigned int]’\n",
      "    editdistance/_editdistance.cpp:120:78:   required from here\n",
      "    editdistance/_editdistance.cpp:44:26: warning: comparison of integer expressions of different signedness: ‘int’ and ‘const unsigned int’ [-Wsign-compare]\n",
      "    editdistance/_editdistance.cpp: In instantiation of ‘unsigned int edit_distance_bpv(T&, const int64_t*, const size_t&, const unsigned int&, const unsigned int&) [with T = std::map<long int, varr<3>, std::less<long int>, std::allocator<std::pair<const long int, varr<3> > > >; TVALUE = varr<3>; int64_t = long int; size_t = long unsigned int]’:\n",
      "    editdistance/_editdistance.cpp:97:67:   required from ‘unsigned int edit_distance_map_(const int64_t*, size_t, const int64_t*, size_t) [with long unsigned int N = 3; int64_t = long int; size_t = long unsigned int]’\n",
      "    editdistance/_editdistance.cpp:121:78:   required from here\n",
      "    editdistance/_editdistance.cpp:44:26: warning: comparison of integer expressions of different signedness: ‘int’ and ‘const unsigned int’ [-Wsign-compare]\n",
      "    editdistance/_editdistance.cpp: In instantiation of ‘unsigned int edit_distance_bpv(T&, const int64_t*, const size_t&, const unsigned int&, const unsigned int&) [with T = std::map<long int, varr<4>, std::less<long int>, std::allocator<std::pair<const long int, varr<4> > > >; TVALUE = varr<4>; int64_t = long int; size_t = long unsigned int]’:\n",
      "    editdistance/_editdistance.cpp:97:67:   required from ‘unsigned int edit_distance_map_(const int64_t*, size_t, const int64_t*, size_t) [with long unsigned int N = 4; int64_t = long int; size_t = long unsigned int]’\n",
      "    editdistance/_editdistance.cpp:122:78:   required from here\n",
      "    editdistance/_editdistance.cpp:44:26: warning: comparison of integer expressions of different signedness: ‘int’ and ‘const unsigned int’ [-Wsign-compare]\n",
      "    editdistance/_editdistance.cpp: In instantiation of ‘unsigned int edit_distance_bpv(T&, const int64_t*, const size_t&, const unsigned int&, const unsigned int&) [with T = std::map<long int, varr<5>, std::less<long int>, std::allocator<std::pair<const long int, varr<5> > > >; TVALUE = varr<5>; int64_t = long int; size_t = long unsigned int]’:\n",
      "    editdistance/_editdistance.cpp:97:67:   required from ‘unsigned int edit_distance_map_(const int64_t*, size_t, const int64_t*, size_t) [with long unsigned int N = 5; int64_t = long int; size_t = long unsigned int]’\n",
      "    editdistance/_editdistance.cpp:123:78:   required from here\n",
      "    editdistance/_editdistance.cpp:44:26: warning: comparison of integer expressions of different signedness: ‘int’ and ‘const unsigned int’ [-Wsign-compare]\n",
      "    editdistance/_editdistance.cpp: In instantiation of ‘unsigned int edit_distance_bpv(T&, const int64_t*, const size_t&, const unsigned int&, const unsigned int&) [with T = std::map<long int, varr<6>, std::less<long int>, std::allocator<std::pair<const long int, varr<6> > > >; TVALUE = varr<6>; int64_t = long int; size_t = long unsigned int]’:\n",
      "    editdistance/_editdistance.cpp:97:67:   required from ‘unsigned int edit_distance_map_(const int64_t*, size_t, const int64_t*, size_t) [with long unsigned int N = 6; int64_t = long int; size_t = long unsigned int]’\n",
      "    editdistance/_editdistance.cpp:124:78:   required from here\n",
      "    editdistance/_editdistance.cpp:44:26: warning: comparison of integer expressions of different signedness: ‘int’ and ‘const unsigned int’ [-Wsign-compare]\n",
      "    editdistance/_editdistance.cpp: In instantiation of ‘unsigned int edit_distance_bpv(T&, const int64_t*, const size_t&, const unsigned int&, const unsigned int&) [with T = std::map<long int, varr<7>, std::less<long int>, std::allocator<std::pair<const long int, varr<7> > > >; TVALUE = varr<7>; int64_t = long int; size_t = long unsigned int]’:\n",
      "    editdistance/_editdistance.cpp:97:67:   required from ‘unsigned int edit_distance_map_(const int64_t*, size_t, const int64_t*, size_t) [with long unsigned int N = 7; int64_t = long int; size_t = long unsigned int]’\n",
      "    editdistance/_editdistance.cpp:125:78:   required from here\n",
      "    editdistance/_editdistance.cpp:44:26: warning: comparison of integer expressions of different signedness: ‘int’ and ‘const unsigned int’ [-Wsign-compare]\n",
      "    editdistance/_editdistance.cpp: In instantiation of ‘unsigned int edit_distance_bpv(T&, const int64_t*, const size_t&, const unsigned int&, const unsigned int&) [with T = std::map<long int, varr<8>, std::less<long int>, std::allocator<std::pair<const long int, varr<8> > > >; TVALUE = varr<8>; int64_t = long int; size_t = long unsigned int]’:\n",
      "    editdistance/_editdistance.cpp:97:67:   required from ‘unsigned int edit_distance_map_(const int64_t*, size_t, const int64_t*, size_t) [with long unsigned int N = 8; int64_t = long int; size_t = long unsigned int]’\n",
      "    editdistance/_editdistance.cpp:126:78:   required from here\n",
      "    editdistance/_editdistance.cpp:44:26: warning: comparison of integer expressions of different signedness: ‘int’ and ‘const unsigned int’ [-Wsign-compare]\n",
      "    editdistance/_editdistance.cpp: In instantiation of ‘unsigned int edit_distance_bpv(T&, const int64_t*, const size_t&, const unsigned int&, const unsigned int&) [with T = std::map<long int, varr<9>, std::less<long int>, std::allocator<std::pair<const long int, varr<9> > > >; TVALUE = varr<9>; int64_t = long int; size_t = long unsigned int]’:\n",
      "    editdistance/_editdistance.cpp:97:67:   required from ‘unsigned int edit_distance_map_(const int64_t*, size_t, const int64_t*, size_t) [with long unsigned int N = 9; int64_t = long int; size_t = long unsigned int]’\n",
      "    editdistance/_editdistance.cpp:127:78:   required from here\n",
      "    editdistance/_editdistance.cpp:44:26: warning: comparison of integer expressions of different signedness: ‘int’ and ‘const unsigned int’ [-Wsign-compare]\n",
      "    editdistance/_editdistance.cpp: In instantiation of ‘unsigned int edit_distance_bpv(T&, const int64_t*, const size_t&, const unsigned int&, const unsigned int&) [with T = std::map<long int, varr<10>, std::less<long int>, std::allocator<std::pair<const long int, varr<10> > > >; TVALUE = varr<10>; int64_t = long int; size_t = long unsigned int]’:\n",
      "    editdistance/_editdistance.cpp:97:67:   required from ‘unsigned int edit_distance_map_(const int64_t*, size_t, const int64_t*, size_t) [with long unsigned int N = 10; int64_t = long int; size_t = long unsigned int]’\n",
      "    editdistance/_editdistance.cpp:128:80:   required from here\n",
      "    editdistance/_editdistance.cpp:44:26: warning: comparison of integer expressions of different signedness: ‘int’ and ‘const unsigned int’ [-Wsign-compare]\n",
      "    x86_64-linux-gnu-gcc -pthread -Wno-unused-result -Wsign-compare -DNDEBUG -g -fwrapv -O2 -Wall -g -fstack-protector-strong -Wformat -Werror=format-security -g -fwrapv -O2 -g -fstack-protector-strong -Wformat -Werror=format-security -Wdate-time -D_FORTIFY_SOURCE=2 -fPIC -I./editdistance -I/home/rodion/Projects/ai-journey-2020/.venv/include -I/usr/include/python3.8 -c editdistance/bycython.cpp -o build/temp.linux-x86_64-3.8/editdistance/bycython.o\n",
      "    editdistance/bycython.cpp:24:10: fatal error: Python.h: No such file or directory\n",
      "       24 | #include \"Python.h\"\n",
      "          |          ^~~~~~~~~~\n",
      "    compilation terminated.\n",
      "    error: command 'x86_64-linux-gnu-gcc' failed with exit status 1\n",
      "    ----------------------------------------\u001b[0m\n",
      "\u001b[31mERROR: Command errored out with exit status 1: /home/rodion/Projects/ai-journey-2020/.venv/bin/python3 -u -c 'import sys, setuptools, tokenize; sys.argv[0] = '\"'\"'/tmp/pip-install-0ogesmmt/editdistance/setup.py'\"'\"'; __file__='\"'\"'/tmp/pip-install-0ogesmmt/editdistance/setup.py'\"'\"';f=getattr(tokenize, '\"'\"'open'\"'\"', open)(__file__);code=f.read().replace('\"'\"'\\r\\n'\"'\"', '\"'\"'\\n'\"'\"');f.close();exec(compile(code, __file__, '\"'\"'exec'\"'\"'))' install --record /tmp/pip-record-_0tum404/install-record.txt --single-version-externally-managed --compile --install-headers /home/rodion/Projects/ai-journey-2020/.venv/include/site/python3.8/editdistance Check the logs for full command output.\u001b[0m\n",
      "\u001b[?25h"
     ]
    }
   ],
   "source": [
    "!pip install editdistance"
   ]
  },
  {
   "cell_type": "code",
   "execution_count": 5,
   "metadata": {
    "colab": {},
    "colab_type": "code",
    "id": "WyBpW92f6Ara",
    "scrolled": true
   },
   "outputs": [],
   "source": [
    "import numpy as np\n",
    "import cv2\n",
    "import os\n",
    "import pandas as pd\n",
    "import string\n",
    "import matplotlib.pyplot as plt\n",
    "import tqdm\n",
    "from os.path import join\n",
    "from collections import Counter\n",
    "import re \n",
    "import io\n",
    "import copy\n",
    "import shutil\n",
    "from tensorflow.keras import layers\n",
    "# import editdistance\n",
    "\n",
    "import os\n",
    "\n",
    "from tensorflow.keras.preprocessing.sequence import pad_sequences\n",
    "from tensorflow.keras import layers\n",
    "\n",
    "from tensorflow.keras.layers import Dense, LSTM,GRU, Reshape, BatchNormalization, Input, Conv2D, MaxPool2D, Lambda, Bidirectional\n",
    "from tensorflow.keras.models import Model\n",
    "from tensorflow.keras.activations import relu, sigmoid, softmax\n",
    "import tensorflow.keras.backend as K\n",
    "from tensorflow.keras.utils import to_categorical\n",
    "from tensorflow.keras.callbacks import ModelCheckpoint\n",
    "\n",
    "from sklearn.model_selection import train_test_split\n",
    "from sklearn.preprocessing import MinMaxScaler"
   ]
  },
  {
   "cell_type": "code",
   "execution_count": 7,
   "metadata": {},
   "outputs": [
    {
     "name": "stdout",
     "output_type": "stream",
     "text": [
      "TensorFlow version: 2.3.1\n",
      "Keras version: 2.4.0\n"
     ]
    }
   ],
   "source": [
    "import tensorflow.keras as keras\n",
    "import tensorflow as tf\n",
    "print('TensorFlow version:', tf.__version__)\n",
    "print('Keras version:', keras.__version__)"
   ]
  },
  {
   "cell_type": "markdown",
   "metadata": {
    "colab_type": "text",
    "id": "XYb61RIzE_kW"
   },
   "source": [
    "**Укажем пути для изображений и текста.**"
   ]
  },
  {
   "cell_type": "code",
   "execution_count": 14,
   "metadata": {},
   "outputs": [
    {
     "name": "stdout",
     "output_type": "stream",
     "text": [
      "6196\n"
     ]
    }
   ],
   "source": [
    "#В этой папке лежат txt файлы перевода\n",
    "trans_dir = '../data/train/words'\n",
    "#В этой папке лежат  jpg файлы изображений\n",
    "image_dir = '../data/train/images'\n",
    "\n",
    "print(len(os.listdir(trans_dir)))"
   ]
  },
  {
   "cell_type": "markdown",
   "metadata": {},
   "source": [
    "Посмотрим на отдельное изображение."
   ]
  },
  {
   "cell_type": "code",
   "execution_count": 15,
   "metadata": {},
   "outputs": [],
   "source": [
    "example = os.listdir(image_dir)[0]"
   ]
  },
  {
   "cell_type": "code",
   "execution_count": 16,
   "metadata": {},
   "outputs": [
    {
     "data": {
      "image/png": "[encoded data removed]",
      "text/plain": [
       "<Figure size 432x288 with 1 Axes>"
      ]
     },
     "metadata": {
      "needs_background": "light"
     },
     "output_type": "display_data"
    }
   ],
   "source": [
    "img = plt.imread(image_dir+'/'+example)\n",
    "plt.imshow(img)\n",
    "plt.show()"
   ]
  },
  {
   "cell_type": "markdown",
   "metadata": {},
   "source": [
    "И его перевод."
   ]
  },
  {
   "cell_type": "code",
   "execution_count": 17,
   "metadata": {
    "scrolled": true
   },
   "outputs": [
    {
     "name": "stdout",
     "output_type": "stream",
     "text": [
      "послѣ в озовѣ мочно додѣлат] i будущею весною\n"
     ]
    }
   ],
   "source": [
    "with io.open(trans_dir+'/'+example[:-3]+'txt', 'r',  encoding='utf8') as file:\n",
    "    data = file.read()\n",
    "\n",
    "print(data)"
   ]
  },
  {
   "cell_type": "markdown",
   "metadata": {},
   "source": [
    "В текстах встречаются слова, содержащие английские символы.\n",
    "\n",
    "Но так как английских символов в целом не очень много, то из train-выборки можно удалить строки с ними (и обучаться только на оставшихся строках). Так мы и сделаем в текущем бейзлайне. Это сократит алфавит (и, как следствие, избавит нас от лишней шумности). \n",
    "\n",
    "При этом надо понимать, что в тестовой выборке английские символы, скорее всего, будут присутствовать. Поэтому будут и вынужденные ошибки, связанные с нашей вольной фильтрацией обучающей выборки.\n",
    "\n",
    "Впрочем, метод распознавания всегда выбираете вы сами. \n",
    "\n",
    "Кроме того, советуем внимательно изучить train-выборку глазами."
   ]
  },
  {
   "cell_type": "code",
   "execution_count": 7,
   "metadata": {},
   "outputs": [],
   "source": [
    "english = ['a', 'b', 'c', 'd', 'e', 'f', 'g', 'h', 'm', 'n' ,'o', 'p', 'r', 's', 't', 'u', 'w']"
   ]
  },
  {
   "cell_type": "code",
   "execution_count": 8,
   "metadata": {},
   "outputs": [],
   "source": [
    "def text_to_labels(text):\n",
    "    return list(map(lambda x: letters.index(x), text))"
   ]
  },
  {
   "cell_type": "markdown",
   "metadata": {},
   "source": [
    "Следующая функция подготавливает лэйблы, то есть переведенный текст. Как уже было сказано, игнорируются примеры, содержащие английские буквы."
   ]
  },
  {
   "cell_type": "code",
   "execution_count": 9,
   "metadata": {},
   "outputs": [],
   "source": [
    "def process_texts(image_dir,trans_dir):\n",
    "    lens = []\n",
    "    include_english = 0\n",
    "    letters = ''\n",
    "\n",
    "    lines = []\n",
    "    names = []\n",
    "    \n",
    "    all_files = os.listdir(trans_dir)\n",
    "    for filename in os.listdir(image_dir):\n",
    "        if filename[:-3]+'txt' in all_files:\n",
    "            name, ext = os.path.splitext(filename)\n",
    "            txt_filepath = join(trans_dir, name + '.txt')\n",
    "            with open(txt_filepath, 'r') as file:\n",
    "                data = file.read()\n",
    "                if len(data)==0:\n",
    "                    continue\n",
    "                if len(set(data).intersection(english))>0:\n",
    "                    continue\n",
    "\n",
    "                lines.append(data)\n",
    "                names.append(filename)\n",
    "                lens.append(len(data))\n",
    "                letters += data\n",
    "    print('Максимальная длина строки:', max(Counter(lens).keys()))\n",
    "    print('Количество строк с английскими буквами ',include_english)\n",
    "\n",
    "    return names,lines,Counter(letters)"
   ]
  },
  {
   "cell_type": "markdown",
   "metadata": {},
   "source": [
    "В итоге мы получаем список изображений, соответствующий ему обработанный список строк и словарь символов."
   ]
  },
  {
   "cell_type": "code",
   "execution_count": 10,
   "metadata": {},
   "outputs": [
    {
     "name": "stdout",
     "output_type": "stream",
     "text": [
      "Максимальная длина строки: 71\n",
      "Количество строк с английскими буквами  0\n"
     ]
    }
   ],
   "source": [
    "names,lines,cnt = process_texts(image_dir,trans_dir)"
   ]
  },
  {
   "cell_type": "code",
   "execution_count": 11,
   "metadata": {},
   "outputs": [
    {
     "name": "stdout",
     "output_type": "stream",
     "text": [
      "Символы train:   ) + / 0 1 2 3 4 5 6 7 8 9 [ ] i k l | × ǂ а б в г д е ж з и й к л м н о п р с т у ф х ц ч ш щ ъ ы ь э ю я і ѣ – … ⊕ ⊗\n"
     ]
    }
   ],
   "source": [
    "letters = set(cnt.keys())\n",
    "\n",
    "letters = sorted(list(letters))\n",
    "print('Символы train:', ' '.join(letters))"
   ]
  },
  {
   "cell_type": "markdown",
   "metadata": {},
   "source": [
    "Следующая функция подгружает изображения, меняет их до необходимого размера и нормирует."
   ]
  },
  {
   "cell_type": "code",
   "execution_count": 12,
   "metadata": {
    "colab": {},
    "colab_type": "code",
    "id": "aXbMbbD5CREV"
   },
   "outputs": [],
   "source": [
    "def process_image(img):\n",
    "    w, h,_ = img.shape\n",
    "    \n",
    "    new_w = 128\n",
    "    new_h = int(h * (new_w / w))\n",
    "    img = cv2.resize(img, (new_h, new_w))\n",
    "    w, h,_ = img.shape\n",
    "    \n",
    "    img = img.astype('float32')\n",
    "    \n",
    "    if w < 128:\n",
    "        add_zeros = np.full((128-w, h,3), 255)\n",
    "        img = np.concatenate((img, add_zeros))\n",
    "        w, h,_ = img.shape\n",
    "    \n",
    "    if h < 1024:\n",
    "        add_zeros = np.full((w, 1024-h,3), 255)\n",
    "        img = np.concatenate((img, add_zeros), axis=1)\n",
    "        w, h,_ = img.shape\n",
    "        \n",
    "    if h > 1024 or w > 128:\n",
    "        dim = (1024,128)\n",
    "        img = cv2.resize(img, dim)\n",
    "    \n",
    "    img = cv2.subtract(255, img)\n",
    "\n",
    "    img = img / 255\n",
    "    \n",
    "    return img"
   ]
  },
  {
   "cell_type": "markdown",
   "metadata": {
    "colab_type": "text",
    "id": "77zmid7KHly9"
   },
   "source": [
    "**Подготовим обучающие и валидационные данные.**"
   ]
  },
  {
   "cell_type": "code",
   "execution_count": 13,
   "metadata": {},
   "outputs": [],
   "source": [
    "def generate_data(lines,names,image_dir):\n",
    "    data_images = []\n",
    "    data_labels = []\n",
    "    data_input_length = []\n",
    "    data_label_length = []\n",
    "    data_original_text = []\n",
    "    data_original_image = []\n",
    "    \n",
    "    max_label_len = 0\n",
    "    for line, name in tqdm.tqdm_notebook(zip(lines,names)):\n",
    "        img = cv2.imread(image_dir+'/'+name)\n",
    "        original_image = copy.deepcopy(img)\n",
    "        img = process_image(img)\n",
    "        try:\n",
    "            label = text_to_labels(line)\n",
    "        except:\n",
    "            print('bad_label')\n",
    "            continue\n",
    "        data_images.append(img)\n",
    "        data_labels.append(label)\n",
    "        data_input_length.append(255)\n",
    "        data_label_length.append(len(line))\n",
    "        data_original_text.append(line)\n",
    "        data_original_image.append(original_image)\n",
    "        \n",
    "        if len(line) > max_label_len:\n",
    "            max_label_len = len(line)\n",
    "        \n",
    "    return data_images, data_labels, data_input_length, data_label_length, \\\n",
    "            data_original_text, data_original_image, max_label_len"
   ]
  },
  {
   "cell_type": "markdown",
   "metadata": {},
   "source": [
    "Создадим обучающую и валидационную выборки."
   ]
  },
  {
   "cell_type": "code",
   "execution_count": 14,
   "metadata": {},
   "outputs": [],
   "source": [
    "lines_train = []\n",
    "names_train = []\n",
    "\n",
    "lines_val = []\n",
    "names_val = []\n",
    "\n",
    "\n",
    "for num,(line, name) in enumerate(zip(lines,names)):\n",
    "    if num % 15 == 0:\n",
    "        lines_val.append(line)\n",
    "        names_val.append(name)\n",
    "    else:\n",
    "        lines_train.append(line)\n",
    "        names_train.append(name)"
   ]
  },
  {
   "cell_type": "code",
   "execution_count": 15,
   "metadata": {
    "scrolled": true
   },
   "outputs": [
    {
     "name": "stderr",
     "output_type": "stream",
     "text": [
      "/usr/local/lib/python3.6/dist-packages/ipykernel_launcher.py:10: TqdmDeprecationWarning: This function will be removed in tqdm==5.0.0\n",
      "Please use `tqdm.notebook.tqdm` instead of `tqdm.tqdm_notebook`\n",
      "  # Remove the CWD from sys.path while we load stuff.\n"
     ]
    },
    {
     "data": {
      "application/vnd.jupyter.widget-view+json": {
       "model_id": "03066693fe93455da02e700e41748a3f",
       "version_major": 2,
       "version_minor": 0
      },
      "text/plain": [
       "HBox(children=(FloatProgress(value=1.0, bar_style='info', max=1.0), HTML(value='')))"
      ]
     },
     "metadata": {},
     "output_type": "display_data"
    },
    {
     "name": "stdout",
     "output_type": "stream",
     "text": [
      "\n"
     ]
    }
   ],
   "source": [
    "train_images, train_labels, train_input_length, train_label_length, train_original_text, train_original_image, \\\n",
    "        train_max_label_len = generate_data(lines_train, names_train, image_dir)"
   ]
  },
  {
   "cell_type": "code",
   "execution_count": 16,
   "metadata": {
    "scrolled": true
   },
   "outputs": [
    {
     "name": "stderr",
     "output_type": "stream",
     "text": [
      "/usr/local/lib/python3.6/dist-packages/ipykernel_launcher.py:10: TqdmDeprecationWarning: This function will be removed in tqdm==5.0.0\n",
      "Please use `tqdm.notebook.tqdm` instead of `tqdm.tqdm_notebook`\n",
      "  # Remove the CWD from sys.path while we load stuff.\n"
     ]
    },
    {
     "data": {
      "application/vnd.jupyter.widget-view+json": {
       "model_id": "08d0efed291646f38c8b1ea039b9ec91",
       "version_major": 2,
       "version_minor": 0
      },
      "text/plain": [
       "HBox(children=(FloatProgress(value=1.0, bar_style='info', max=1.0), HTML(value='')))"
      ]
     },
     "metadata": {},
     "output_type": "display_data"
    },
    {
     "name": "stdout",
     "output_type": "stream",
     "text": [
      "\n"
     ]
    }
   ],
   "source": [
    "val_images, val_labels, val_input_length, val_label_length, val_original_text, val_original_image, \\\n",
    "        val_max_label_len = generate_data(lines_val, names_val, image_dir)"
   ]
  },
  {
   "cell_type": "code",
   "execution_count": 17,
   "metadata": {
    "scrolled": false
   },
   "outputs": [
    {
     "name": "stdout",
     "output_type": "stream",
     "text": [
      "71\n"
     ]
    }
   ],
   "source": [
    "max_label_len = max(train_max_label_len,val_max_label_len)\n",
    "print(max_label_len)"
   ]
  },
  {
   "cell_type": "markdown",
   "metadata": {},
   "source": [
    "Выведем пару обработанных изображений с переводом."
   ]
  },
  {
   "cell_type": "code",
   "execution_count": 18,
   "metadata": {},
   "outputs": [
    {
     "name": "stderr",
     "output_type": "stream",
     "text": [
      "Clipping input data to the valid range for imshow with RGB data ([0..1] for floats or [0..255] for integers).\n"
     ]
    },
    {
     "name": "stdout",
     "output_type": "stream",
     "text": [
      "5\n"
     ]
    },
    {
     "data": {
      "image/png": "[encoded data removed]",
      "text/plain": [
       "<Figure size 432x288 with 1 Axes>"
      ]
     },
     "metadata": {
      "needs_background": "light"
     },
     "output_type": "display_data"
    },
    {
     "name": "stderr",
     "output_type": "stream",
     "text": [
      "Clipping input data to the valid range for imshow with RGB data ([0..1] for floats or [0..255] for integers).\n"
     ]
    },
    {
     "name": "stdout",
     "output_type": "stream",
     "text": [
      "7\n"
     ]
    },
    {
     "data": {
      "image/png": "[encoded data removed]",
      "text/plain": [
       "<Figure size 432x288 with 1 Axes>"
      ]
     },
     "metadata": {
      "needs_background": "light"
     },
     "output_type": "display_data"
    }
   ],
   "source": [
    "rnd = np.random.choice(range(len(train_images)),2)\n",
    "\n",
    "for i in rnd:\n",
    "    print(train_original_text[i])\n",
    "    plt.imshow(train_images[i])\n",
    "    plt.show()"
   ]
  },
  {
   "cell_type": "markdown",
   "metadata": {
    "colab_type": "text",
    "id": "S08OVL07IsRY"
   },
   "source": [
    "**Дополним строки до максимальной длины**"
   ]
  },
  {
   "cell_type": "code",
   "execution_count": 19,
   "metadata": {
    "colab": {},
    "colab_type": "code",
    "id": "CqJP3ZfnCbX5"
   },
   "outputs": [],
   "source": [
    "train_padded_label = pad_sequences(train_labels, \n",
    "                             maxlen=max_label_len, \n",
    "                             padding='post',\n",
    "                             value=len(letters))\n",
    "\n",
    "val_padded_label = pad_sequences(val_labels, \n",
    "                             maxlen=max_label_len, \n",
    "                             padding='post',\n",
    "                             value=len(letters))"
   ]
  },
  {
   "cell_type": "code",
   "execution_count": 20,
   "metadata": {
    "colab": {
     "base_uri": "https://localhost:8080/",
     "height": 34
    },
    "colab_type": "code",
    "id": "rPN6audwCnCO",
    "outputId": "245631e4-ae4f-40ca-d3c6-713cdf2d8fe6",
    "scrolled": true
   },
   "outputs": [
    {
     "data": {
      "text/plain": [
       "((5698, 71), (407, 71))"
      ]
     },
     "execution_count": 20,
     "metadata": {},
     "output_type": "execute_result"
    }
   ],
   "source": [
    "train_padded_label.shape, val_padded_label.shape"
   ]
  },
  {
   "cell_type": "code",
   "execution_count": 21,
   "metadata": {
    "colab": {},
    "colab_type": "code",
    "id": "AsGyb8qGCoqb"
   },
   "outputs": [],
   "source": [
    "train_images = np.asarray(train_images)\n",
    "train_input_length = np.asarray(train_input_length)\n",
    "train_label_length = np.asarray(train_label_length)\n",
    "\n",
    "val_images = np.asarray(val_images)\n",
    "val_input_length = np.asarray(val_input_length)\n",
    "val_label_length = np.asarray(val_label_length)"
   ]
  },
  {
   "cell_type": "code",
   "execution_count": 22,
   "metadata": {
    "colab": {
     "base_uri": "https://localhost:8080/",
     "height": 34
    },
    "colab_type": "code",
    "id": "ynka_dx2D05g",
    "outputId": "a9528c37-881f-4fda-ad94-73894acc166c"
   },
   "outputs": [
    {
     "data": {
      "text/plain": [
       "(5698, 128, 1024, 3)"
      ]
     },
     "execution_count": 22,
     "metadata": {},
     "output_type": "execute_result"
    }
   ],
   "source": [
    "train_images.shape"
   ]
  },
  {
   "cell_type": "markdown",
   "metadata": {
    "colab_type": "text",
    "id": "1bcjvY3bKFXj"
   },
   "source": [
    "## **Строим модель**"
   ]
  },
  {
   "cell_type": "markdown",
   "metadata": {},
   "source": [
    "Модель состоит из нескольких слоев CNN, GRU и использует ctc_loss. [Вот](https://www.youtube.com/watch?v=SAfJ6nP2rrI) хорошее видео о нем на русском."
   ]
  },
  {
   "cell_type": "code",
   "execution_count": 23,
   "metadata": {},
   "outputs": [],
   "source": [
    "inputs = Input(shape=(128,1024,3))\n",
    "\n",
    "conv_1 = Conv2D(64, (3,3), activation = 'relu', padding='same')(inputs)\n",
    "pool_1 = MaxPool2D(pool_size=(4, 2), strides=2)(conv_1)\n",
    "\n",
    "conv_2 = Conv2D(128, (3,3), activation = 'relu', padding='same')(pool_1)\n",
    "pool_2 = MaxPool2D(pool_size=(4, 2), strides=2)(conv_2)\n",
    "\n",
    "conv_3 = Conv2D(256, (3,3), activation = 'relu', padding='same')(pool_2)\n",
    "\n",
    "conv_4 = Conv2D(256, (3,3), activation = 'relu', padding='same')(conv_3)\n",
    "\n",
    "pool_4 = MaxPool2D(pool_size=(4, 1),padding='same')(conv_4)\n",
    "\n",
    "conv_5 = Conv2D(512, (3,3), activation = 'relu', padding='same')(pool_4)\n",
    "\n",
    "batch_norm_5 = BatchNormalization()(conv_5)\n",
    "\n",
    "conv_6 = Conv2D(512, (3,3), activation = 'relu', padding='same')(batch_norm_5)\n",
    "batch_norm_6 = BatchNormalization()(conv_6)\n",
    "pool_6 = MaxPool2D(pool_size=(4, 1),padding='same')(batch_norm_6)\n",
    "\n",
    "conv_7 = Conv2D(512, (2,2), activation = 'relu')(pool_6)\n",
    "\n",
    "squeezed = Lambda(lambda x: K.squeeze(x, 1))(conv_7)\n",
    "\n",
    "blstm_1 = Bidirectional(GRU(256, return_sequences=True, dropout = 0.2))(squeezed)\n",
    "blstm_2 = Bidirectional(GRU(256, return_sequences=True, dropout = 0.2))(blstm_1)\n",
    "\n",
    "outputs = Dense(len(letters)+1, activation = 'softmax')(blstm_2)\n",
    "act_model = Model(inputs=inputs, outputs=outputs)\n",
    "    \n",
    "the_labels = Input(name='the_labels', shape=[max_label_len], dtype='float32')\n",
    "input_length = Input(name='input_length', shape=[1], dtype='int64')\n",
    "label_length = Input(name='label_length', shape=[1], dtype='int64')\n",
    "\n",
    "def ctc_lambda_func(args):\n",
    "    y_pred, labels, input_length, label_length = args\n",
    "\n",
    "    return K.ctc_batch_cost(labels, y_pred, input_length, label_length)\n",
    "\n",
    "loss_out = Lambda(ctc_lambda_func, output_shape=(1,), name='ctc')([outputs, the_labels, input_length, label_length])\n",
    "\n",
    "model = Model(inputs=[inputs, the_labels, input_length, label_length], outputs=loss_out)"
   ]
  },
  {
   "cell_type": "code",
   "execution_count": 24,
   "metadata": {},
   "outputs": [
    {
     "name": "stdout",
     "output_type": "stream",
     "text": [
      "Model: \"model\"\n",
      "_________________________________________________________________\n",
      "Layer (type)                 Output Shape              Param #   \n",
      "=================================================================\n",
      "input_1 (InputLayer)         [(None, 128, 1024, 3)]    0         \n",
      "_________________________________________________________________\n",
      "conv2d (Conv2D)              (None, 128, 1024, 64)     1792      \n",
      "_________________________________________________________________\n",
      "max_pooling2d (MaxPooling2D) (None, 63, 512, 64)       0         \n",
      "_________________________________________________________________\n",
      "conv2d_1 (Conv2D)            (None, 63, 512, 128)      73856     \n",
      "_________________________________________________________________\n",
      "max_pooling2d_1 (MaxPooling2 (None, 30, 256, 128)      0         \n",
      "_________________________________________________________________\n",
      "conv2d_2 (Conv2D)            (None, 30, 256, 256)      295168    \n",
      "_________________________________________________________________\n",
      "conv2d_3 (Conv2D)            (None, 30, 256, 256)      590080    \n",
      "_________________________________________________________________\n",
      "max_pooling2d_2 (MaxPooling2 (None, 8, 256, 256)       0         \n",
      "_________________________________________________________________\n",
      "conv2d_4 (Conv2D)            (None, 8, 256, 512)       1180160   \n",
      "_________________________________________________________________\n",
      "batch_normalization (BatchNo (None, 8, 256, 512)       2048      \n",
      "_________________________________________________________________\n",
      "conv2d_5 (Conv2D)            (None, 8, 256, 512)       2359808   \n",
      "_________________________________________________________________\n",
      "batch_normalization_1 (Batch (None, 8, 256, 512)       2048      \n",
      "_________________________________________________________________\n",
      "max_pooling2d_3 (MaxPooling2 (None, 2, 256, 512)       0         \n",
      "_________________________________________________________________\n",
      "conv2d_6 (Conv2D)            (None, 1, 255, 512)       1049088   \n",
      "_________________________________________________________________\n",
      "lambda (Lambda)              (None, 255, 512)          0         \n",
      "_________________________________________________________________\n",
      "bidirectional (Bidirectional (None, 255, 512)          1182720   \n",
      "_________________________________________________________________\n",
      "bidirectional_1 (Bidirection (None, 255, 512)          1182720   \n",
      "_________________________________________________________________\n",
      "dense (Dense)                (None, 255, 61)           31293     \n",
      "=================================================================\n",
      "Total params: 7,950,781\n",
      "Trainable params: 7,948,733\n",
      "Non-trainable params: 2,048\n",
      "_________________________________________________________________\n"
     ]
    }
   ],
   "source": [
    "act_model.summary()"
   ]
  },
  {
   "cell_type": "code",
   "execution_count": 25,
   "metadata": {
    "scrolled": true
   },
   "outputs": [],
   "source": [
    "batch_size = 20\n",
    "epochs = 300\n",
    "\n",
    "from tensorflow.keras.callbacks import EarlyStopping,ReduceLROnPlateau\n",
    "\n",
    "model.compile(loss={'ctc': lambda y_true, y_pred: y_pred}, optimizer = 'adam', metrics=['accuracy'])\n",
    "\n",
    "os.makedirs('checkpoint', exist_ok=True)\n",
    "\n",
    "filepath=\"checkpoint/model.hdf5\"\n",
    "es = EarlyStopping(monitor='val_loss', mode='min', verbose=1, patience=20)\n",
    "reduce_lr = ReduceLROnPlateau(monitor='val_loss', factor=0.7,\n",
    "                              patience=5, min_lr=0.00001)\n",
    "\n",
    "checkpoint = ModelCheckpoint(filepath=filepath, monitor='val_accuracy', verbose=1, save_best_only=True, mode='auto')\n",
    "callbacks_list = [checkpoint,es,reduce_lr]\n",
    "\n",
    "history = model.fit(x=[train_images, train_padded_label, train_input_length, train_label_length],\n",
    "                    y=np.zeros(len(train_images)),\n",
    "                    batch_size=batch_size, \n",
    "                    epochs=epochs, \n",
    "                    validation_data=([val_images, val_padded_label, val_input_length, val_label_length], [np.zeros(len(val_images))]),\n",
    "                    verbose=2,\n",
    "                    callbacks=callbacks_list)\n"
   ]
  },
  {
   "cell_type": "markdown",
   "metadata": {},
   "source": [
    "Посмотрим качество на валидации."
   ]
  },
  {
   "cell_type": "code",
   "execution_count": 26,
   "metadata": {},
   "outputs": [],
   "source": [
    "import time"
   ]
  },
  {
   "cell_type": "code",
   "execution_count": 27,
   "metadata": {
    "scrolled": true
   },
   "outputs": [
    {
     "name": "stdout",
     "output_type": "stream",
     "text": [
      "WARNING:tensorflow:From /usr/local/lib/python3.6/dist-packages/tensorflow/python/keras/backend.py:5871: sparse_to_dense (from tensorflow.python.ops.sparse_ops) is deprecated and will be removed in a future version.\n",
      "Instructions for updating:\n",
      "Create a `tf.sparse.SparseTensor` and use `tf.sparse.to_dense` instead.\n",
      "9.308727264404297\n"
     ]
    }
   ],
   "source": [
    "start = time.time()\n",
    "act_model.load_weights(filepath)\n",
    "prediction = act_model.predict(val_images)\n",
    "\n",
    "decoded = K.ctc_decode(prediction, \n",
    "                       input_length=np.ones(prediction.shape[0]) * prediction.shape[1],\n",
    "                       greedy=True)[0][0]\n",
    "out = K.get_value(decoded)\n",
    "end = time.time()\n",
    "print(end-start)"
   ]
  },
  {
   "cell_type": "code",
   "execution_count": 28,
   "metadata": {
    "scrolled": true
   },
   "outputs": [
    {
     "name": "stdout",
     "output_type": "stream",
     "text": [
      "Ground truth -> Recognized\n",
      "[ERR:6] \"с воронежа пришел а другова зафтра\" -> \"своронежа пришел а друро вазаф тре\"\n",
      "[ERR:3] \"на будет экадра чтоб не потерят людей\" -> \"на будет в каддра чтоб не потерят людей\"\n",
      "[ERR:1] \"бусоф также гдѣ найдете i сколко\" -> \"бусоф также гдѣн найдете i сколко\"\n",
      "[ERR:3] \"ного и возна в заключе\" -> \"ного а возна в закию че\"\n",
      "[ERR:1] \"пространно отвѣтствовал вам господин\" -> \"пространно отвѣтствовал вам гонподин\"\n",
      "[ERR:45] \"+ i чтоб оныя короче не были 130 фут [дабы могли\" -> \"+ к\"\n",
      "[OK] \"учинит] i тѣм лутчюю выгоду\" -> \"учинит] i тѣм лутчюю выгоду\"\n",
      "[ERR:1] \"не сумневаемся что на\" -> \"не сум неваемся что на\"\n",
      "[ERR:4] \"обувей i протъчево\" -> \"обувет i проть чевъ\"\n",
      "[ERR:2] \"во флотѣ для дѣйствъ про\" -> \"вофлотѣ для дѣйство про\"\n",
      "[ERR:2] \"ца i по пунктам дѣлат здѣс ново\" -> \"ца i по пункам дѣлат здѣсново\"\n",
      "[OK] \"2\" -> \"2\"\n",
      "[ERR:2] \"же пишете что голстенцы каковы были про\" -> \"же пишете что голстетцы каковыбыли про\"\n",
      "[OK] \"что вершка два iли три пот судном то\" -> \"что вершка два iли три пот судном то\"\n",
      "[ERR:2] \"три писма посланы] кой час по\" -> \"три п сисма посланы] кой час по\"\n",
      "[ERR:1] \"что же о послѣ надлежит i оного на сей же недѣ\" -> \"что же о послѣ надлежит i оного на сей же не дѣ\"\n",
      "[OK] \"неси каралефъскому величеству чтоб iз\" -> \"неси каралефъскому величеству чтоб iз\"\n",
      "[OK] \"3\" -> \"3\"\n",
      "[ERR:1] \"которыя уже i загли тогда на одном под\" -> \"которыя уже i загли тогда на одпом под\"\n",
      "[OK] \"ралю полскому войну обявили\" -> \"ралю полскому войну обявили\"\n",
      "[ERR:5] \"лежит\" -> \"iз\"\n",
      "[ERR:3] \"те i под одною кумандою\" -> \"те iпол одною кумандѣю\"\n",
      "[ERR:3] \"понеже как я при свиданиi с королефским\" -> \"понеже как я присвиданиi скоролофским\"\n",
      "[ERR:2] \"ние же сей моей клятвы\" -> \"пие же сей моей клят вы\"\n",
      "[OK] \"обявъляем что сего дня о пятом\" -> \"обявъляем что сего дня о пятом\"\n",
      "[ERR:3] \"добрыя i iскусныя iбо на каждам положе\" -> \"добрыя i i скосныя iбо на каждар положе\"\n",
      "[OK] \"протчих полкофъ офицером i салда\" -> \"протчих полкофъ офицером i салда\"\n",
      "[ERR:1] \"на полгода обор офицером на три\" -> \"на полгода оборофицером на три\"\n",
      "[ERR:1] \"ды писано] а iменно тялкоф i протчих\" -> \"ды писано] а iменно тялкоф i поотчих\"\n",
      "[ERR:2] \"спасителя моего амин\" -> \"спасителя моего а мик\"\n",
      "[OK] \"2\" -> \"2\"\n",
      "[ERR:1] \"деревъни которыя за басурма\" -> \"деревъни которыя забасурма\"\n",
      "[ERR:3] \"рѣлѣ мѣсеце штетин\" -> \"рѣле мѣсеце шетиж\"\n",
      "[OK] \"будет когда флот не будет удер\" -> \"будет когда флот не будет удер\"\n",
      "[ERR:3] \"телских караблей также i морем провѣ\" -> \"телскит кераблей также iморем провѣ\"\n",
      "[ERR:2] \"в чем засвидѣтелствуем\" -> \"в чей засвидѣтелстеуем\"\n",
      "[ERR:2] \"чтоб к в датской своiм\" -> \"чттоб к в датской ввоiм\"\n",
      "[ERR:2] \"судит что я здѣс никакого iнтереса\" -> \"судит что я здѣсни какого iнтереса\"\n",
      "[ERR:5] \"со фъсею силолою сухопутною обратитца\" -> \"с ввъсею силореою сухопутною обратитца\"\n",
      "[ERR:2] \"ли з баталионом командраваным да iз гар\" -> \"ли збаталионо командраваным да iз гар\"\n",
      "[ERR:4] \"аднакож оныя х кривицу маршироват\" -> \"аднакож оныя х кривицу мярши твът\"\n",
      "[ERR:4] \"небо i землю всяческая\" -> \"небыi зелѣ всяческая\"\n",
      "[ERR:4] \"подлинно будут говорит о миру то стаф с ни\" -> \"подлинно будут говорит омру то стафсни\"\n",
      "[ERR:6] \"губернатороф iмѣт лантър лантъратофъ\" -> \"губернатороф iмѣт монтѣ рлантъ ратофъ\"\n",
      "[ERR:6] \"ца нелицемѣрно о зборѣ денежном\" -> \"ца нелицемѣ но озборѣдъ нежнос\"\n",
      "[OK] \"ленска стоiт готофъ i iмѣ\" -> \"ленска стоiт готофъ i iмѣ\"\n",
      "[ERR:2] \"о себѣ прошу по прежнему вам доношению\" -> \"о себѣ прошу попрежнему вим доношению\"\n",
      "[OK] \"более\" -> \"более\"\n",
      "[ERR:8] \"чтоб нѣсколко бочек вина купит с новых\" -> \"чтоб нѣсколкобо чек винакупчит ско выс\"\n",
      "[ERR:2] \"му весма неудобно для\" -> \"му весмане удобно для\"\n",
      "[ERR:1] \"худа тогда iтит\" -> \"худа тогда i тит\"\n",
      "[ERR:2] \"ластовых судоф х которым по н\" -> \"ластовых суцоф х которым пон\"\n",
      "[ERR:5] \"салдатам на два мѣсеца\" -> \"кал датам над вамѣсеца\"\n",
      "[ERR:3] \"непъриятел захочет ба\" -> \"непъряяттет захочет ба\"\n",
      "[OK] \"щей войнѣ i нашим\" -> \"щей войнѣ i нашим\"\n",
      "[ERR:2] \"от кого нашим войскам провиантъ обѣщан\" -> \"откого нашим войскам провиантъ обѣшан\"\n",
      "[ERR:1] \"намѣ\" -> \"намб\"\n",
      "[ERR:1] \"подали i въсякое вспоможение\" -> \"подали i въсякое в споможение\"\n",
      "[OK] \"кия опасности сут а на\" -> \"кия опасности сут а на\"\n",
      "[ERR:10] \"iбо к пол сам то уступил [с чего прилагаем копию]\" -> \"iбыкрол сам тоусту пил [чего прилагае копи]\"\n",
      "[ERR:2] \"войдут в полшу то i нам волно i тогда паки\" -> \"возду в полшу то i нам волно i тогда паки\"\n",
      "[ERR:2] \"в своей провинциi а губернатором при\" -> \"в своей провитцие а губернатором при\"\n",
      "[OK] \"дами прекрепъкой нам оставили непъри\" -> \"дами прекрепъкой нам оставили непъри\"\n",
      "[ERR:1] \"апърѣля\" -> \"а пърѣля\"\n",
      "[ERR:1] \"в тѣхъ описках время не потерят\" -> \"в тѣхъ о писках время не потерят\"\n",
      "[ERR:40] \"+ которых просим в походѣ iх когда за стер\" -> \"+ \"\n",
      "[OK] \"ту представъляя всѣ\" -> \"ту представъляя всѣ\"\n",
      "[OK] \"мой господин\" -> \"мой господин\"\n",
      "[ERR:3] \"понеже господин вице адмирал\" -> \"понеже господин вицад мирал\"\n",
      "[ERR:2] \"обявъляю что я сюды прибылъ\" -> \"обрявъляю что я сюды присылъ\"\n",
      "[OK] \"ли непъриятел будет вашъ го\" -> \"ли непъриятел будет вашъ го\"\n",
      "[ERR:2] \"ца по iх воли а iменно по тракта\" -> \"ца по iхволи а iменно потракта\"\n",
      "[OK] \"толко чтоб всѣ к праз\" -> \"толко чтоб всѣ к праз\"\n",
      "[ERR:1] \"+ iли масло\" -> \"+ iли масно\"\n",
      "[ERR:1] \"канслѣр а въ самой материi есть сие\" -> \"канслѣр а въсамой материi есть сие\"\n",
      "[ERR:7] \"также однаго человѣка\" -> \"такжет однавочецо въса\"\n",
      "[ERR:2] \"титла\" -> \"тит ма\"\n",
      "[ERR:3] \"шаутбейнах\" -> \"шут безнах\"\n",
      "[OK] \"жит даф слово держат оное\" -> \"жит даф слово держат оное\"\n",
      "[ERR:6] \"за полтавъскую баталию\" -> \"зыполтавъ кк ую батлию\"\n",
      "[OK] \"кромѣ того что дамой iтит дѣлат\" -> \"кромѣ того что дамой iтит дѣлат\"\n",
      "[ERR:2] \"одного в другое была\" -> \"од ного в другое бла\"\n",
      "[ERR:1] \"генерала л брюса\" -> \"генерала i брюса\"\n",
      "[ERR:2] \"будем своею пѣхотою к ним\" -> \"будем своею пѣхотою сiним\"\n",
      "[ERR:5] \"куды с товарами а когъ\" -> \"куды сттоварами поге\"\n",
      "[ERR:1] \"для того такую цену положил ве\" -> \"для того та кую цену положил ве\"\n",
      "[OK] \"+\" -> \"+\"\n",
      "[OK] \"по крылам перебиратца\" -> \"по крылам перебиратца\"\n",
      "[ERR:1] \"понеже я с великим удивъ\" -> \"пънеже я с великим удивъ\"\n",
      "[ERR:1] \"не станут держат оно\" -> \"нестанут держат оно\"\n",
      "[ERR:1] \"ского i дерпътъского уѣздоф также\" -> \"ского i дерпътъскогоуѣздоф также\"\n",
      "[ERR:3] \"три карабля лехких на парусах i чтоб оныя\" -> \"три капаблялехких напарусах i чтоб оныя\"\n",
      "[ERR:2] \"чтоб в сентебрѣ поставит iх на мстинѣ озе\" -> \"чтоб в сентбрѣ поставит iх намстинѣ озе\"\n",
      "[ERR:2] \"к миру того ради все чини по своему раз\" -> \"к миру того ради всечини посвоему раз\"\n",
      "[ERR:1] \"беле писарем всѣм быт протиф дру\" -> \"геле писарем всѣм быт протиф дру\"\n",
      "[OK] \"писи буде же сего\" -> \"писи буде же сего\"\n",
      "[ERR:1] \"в гипъсъвалдѣ чтоб оставълен былъ\" -> \"в рипъсъвалдѣ чтоб оставълен былъ\"\n",
      "[ERR:2] \"тъ зело широкой переѣздъ от галанта до\" -> \"ть зело широкой переѣздъ отгаланта до\"\n",
      "[ERR:3] \"но употребите в отпускъ\" -> \"ко употребите в вт пускъ\"\n",
      "[ERR:1] \"всѣх сѣверных алиртоф\" -> \"всѣ сѣверных алиртоф\"\n",
      "[ERR:2] \"понеже iмѣем великое\" -> \"понееже iмѣем вели кое\"\n",
      "[ERR:5] \"на 6 мѣсецоф по сему по два фунта хлѣба по пол\" -> \"на 6 мѣсецоф по сему подва фунта кѣба попонл\"\n",
      "[ERR:1] \"требоват части какой iли\" -> \"требоватчасти какой iли\"\n",
      "[ERR:2] \"райте для чего добраго человѣ\" -> \"файте для чебо добраго человѣ\"\n",
      "[OK] \"но понеже сиi пункты по оном\" -> \"но понеже сиi пункты по оном\"\n",
      "[ERR:5] \"дождатца ему г л к голицына i принят у него\" -> \"дождатцоему г л м голицына i принят онего\"\n",
      "[ERR:1] \"дайте знак в наши оп\" -> \"дайте знак в нашиоп\"\n",
      "[OK] \"ту не совѣтывал\" -> \"ту не совѣтывал\"\n",
      "[OK] \"течет от абоу i тут остоно\" -> \"течет от абоу i тут остоно\"\n",
      "[OK] \"+\" -> \"+\"\n",
      "[ERR:3] \"о вас о чем желаю вѣдат а особливо как\" -> \"о вас о чежелаю вѣядат а особливо как\"\n",
      "[ERR:2] \"билис мы iнаго с помощию\" -> \"билис мы i нагос помощию\"\n",
      "[OK] \"войку мѣста i протчия слу\" -> \"войку мѣста i протчия слу\"\n",
      "[ERR:2] \"iначе не знаем\" -> \"iначе нез наем\"\n",
      "[ERR:1] \"получил от адмитрала писмо в котором пишет что\" -> \"получил от адмирала писмо в котором пишет что\"\n",
      "[OK] \"4\" -> \"4\"\n",
      "[ERR:1] \"i без сумнения есть iли министериум па\" -> \"i без сумнения есть iли министериумпа\"\n",
      "[OK] \"хотят чрез вислу перешед со оным сово\" -> \"хотят чрез вислу перешед со оным сово\"\n",
      "[ERR:1] \"конюкътуром полѣзнее с турка\" -> \"конюкътуром полѣзнее стурка\"\n",
      "[ERR:4] \"боуру взят 1500 в том числѣ 300 конных\" -> \"боуру взят 1500 в томй числѣ 2во конных\"\n",
      "[ERR:4] \"iз грипъсвалда въ 2 д авъгуста\" -> \"i грипъ сволда въ 2 д а въгуста\"\n",
      "[ERR:2] \"отдат оных г репънину в смоленскѣ\" -> \"отдат оных г репъниму всмоленскѣ\"\n",
      "[ERR:4] \"лижатца разорит а людей в киефъ\" -> \"ли жатца разорит а людей влефъ\"\n",
      "[OK] \"5\" -> \"5\"\n",
      "[ERR:3] \"ежели непъриятель безсилен то оного гнат\" -> \"ежели непъриятель бе силенто оного гкат\"\n",
      "[OK] \"14\" -> \"14\"\n",
      "[ERR:3] \"полуб гдѣ доведутца быт просѣчь\" -> \"полубгдѣ доведутца бы просѣчо\"\n",
      "[ERR:1] \"де iзготовит первое чтоб мосты\" -> \"де iз готовит первое чтоб мосты\"\n",
      "[OK] \"ся фрунтом протиф дама [а нашим за\" -> \"ся фрунтом протиф дама [а нашим за\"\n",
      "[ERR:1] \"чтоб к формалнай атакѣ страл\" -> \"чтоб к формалнай а такѣ страл\"\n",
      "[OK] \"паснее к вам проѣздъ былъ\" -> \"паснее к вам проѣздъ былъ\"\n",
      "[ERR:5] \"опасаюсь нѣт ли с бургерами\" -> \"опасаю съ нѣтли сбурперами\"\n",
      "[OK] \"+\" -> \"+\"\n",
      "[ERR:4] \"дут того ра зело проси его величества\" -> \"вут того радело проси его вели чества\"\n",
      "[ERR:1] \"петръ\" -> \"петъ\"\n",
      "[OK] \"ца\" -> \"ца\"\n",
      "[ERR:1] \"лат тотчах указ чтоб шли карабли кото\" -> \"лат тотчах указ чтоб шли каранли кото\"\n",
      "[ERR:3] \"мортира для бомбордированя а бомбар\" -> \"мортира для бомбордированя а борбо\"\n",
      "[ERR:4] \"нами конюнктуроф подлинных указоф послат не\" -> \"намиконоктуроф подринных указоф послат не\"\n",
      "[OK] \"так в одном iли двух мѣстах оснуетца\" -> \"так в одном iли двух мѣстах оснуетца\"\n",
      "[ERR:3] \"ибо два iз оных сут моей собственной работы\" -> \"iбо два iз оных сутмоей собстветной работы\"\n",
      "[ERR:1] \"подлинно вѣдаешь что алтиллерия\" -> \"подлинновѣдаешь что алтиллерия\"\n",
      "[ERR:4] \"но такъ i дѣлаем поклон отдай теткѣ от меня\" -> \"но такъ i дѣлаем поллон отдасйтеткѣ отменя\"\n",
      "[ERR:3] \"вам того смотрет ежели войск ево\" -> \"вам того смотрет ежели въйсквво\"\n",
      "[ERR:2] \"ли i фут взяли откол ближе можем\" -> \"ли i фут взяли от колближе можем\"\n",
      "[ERR:9] \"писмо от вас на которыя не имѣем\" -> \"писмо отванна которы пие iмвех\"\n",
      "[OK] \"было принят на тѣх мѣста коi нынѣ [а iх отпус\" -> \"было принят на тѣх мѣста коi нынѣ [а iх отпус\"\n",
      "[ERR:4] \"кой будет убыток а особливо под нынешней\" -> \"кой будет убы ток каособли во под нынешней\"\n",
      "[ERR:1] \"непъриятел будет за денги все брат\" -> \"непъриятел будет за денги всебрат\"\n",
      "[ERR:4] \"кѣ карислансбру то передовыя наши наѣ\" -> \"кѣк а рислан сбру то передовыя наши наѣ\"\n",
      "[ERR:4] \"ца лутче к ревелю iли перноу в дарогѣ вездѣ ѣхат\" -> \"ца луте к ревълю iлиперноу в дарогѣ вездѣѣхат\"\n",
      "[ERR:1] \"тит iскат другова\" -> \"тит iскат другове\"\n",
      "[ERR:4] \"возми с собою кнез папу + которому отдай должной\" -> \"возмиссобою к нез паку + которому отдай должной\"\n",
      "[ERR:1] \"мы ради многих болот i протчих неу\" -> \"мы ради многих болот i протчих не у\"\n",
      "[ERR:4] \"телно iх iнтересом то с ни\" -> \"теено iх iнтерлесом то ски\"\n",
      "[ERR:1] \"здѣлат доброй ша\" -> \"здѣлат добройша\"\n",
      "[ERR:7] \"водяным i сухим путем дано будет\" -> \"водяны i сухеемпутем да ко удет\"\n",
      "[OK] \"бывшей я принял i за труды ваши\" -> \"бывшей я принял i за труды ваши\"\n",
      "[ERR:5] \"i ежели б не такая крѣпкая паса\" -> \"i ежии б не такая крѣпаяраса\"\n",
      "[ERR:8] \"тысячеми дат въ iх службу что въсе кла\" -> \"тъкя чеми дат въiх сляжбутовъсе кла\"\n",
      "[ERR:2] \"людей перевесть зимою въ финландию для\" -> \"людей перевесто зимою въфинландию для\"\n",
      "[ERR:1] \"iли когда онѣ сами\" -> \"iликогда онѣ сами\"\n",
      "[ERR:10] \"+ і протчим\" -> \"ос\"\n",
      "[OK] \"которыя уже пълод iмѣли ежели не позябнут\" -> \"которыя уже пълод iмѣли ежели не позябнут\"\n",
      "[ERR:5] \"борствер\" -> \"бора\"\n",
      "[ERR:3] \"толко одного элзелфорса разорения то не для\" -> \"толко одного энзелфорсаразорения то недля\"\n",
      "[OK] \"послан чтоб к вам шли i указу вашего слу\" -> \"послан чтоб к вам шли i указу вашего слу\"\n",
      "[ERR:6] \"как удобнее столко чтоб до выборха iли пи\" -> \"как удобнее с толко чтоб довыбораiлили\"\n",
      "[ERR:3] \"то же воспоминаю i к тому прилагаю что\" -> \"тоже воспонинаю i ктому прилагаю что\"\n",
      "[ERR:6] \"живет к тому ж когда было разбират тогда\" -> \"живет к томужког дабылоразбират тогца\"\n",
      "[ERR:5] \"которых проход зело узак а с възят\" -> \"коорых проход зело узан свъзят\"\n",
      "[ERR:2] \"+ з генаралитеiтом iмѣли\" -> \"+ з генаралите i том iмѣли\"\n",
      "[ERR:40] \"+ о чем вѣдомость iмѣет гановерской послал\" -> \"+ \"\n",
      "[ERR:4] \"были чрез переволочну близ шведоф \" -> \"были чрез переволочну близ швевоф как\"\n",
      "[ERR:4] \"в слутску въ 17 д марта 1711\" -> \"в слутску въъ 17 дмаржа ]711\"\n",
      "[ERR:6] \"продат iли отдат ни при себѣ ни по себѣ а хто по\" -> \"продат iли отдат ни присеъ ни по себ ах то по\"\n",
      "[ERR:2] \"ремене] но нынѣ куды прямѣе i удоб\" -> \"ремене] но нынѣ куды прямѣе i удуг\"\n",
      "[ERR:3] \"го наказаня на маеора шведского раз\" -> \"гонаказаня на мое ора шведского раз\"\n",
      "[ERR:2] \"поминая нынѣ в чер\" -> \"пѣминая нынѣ вчер\"\n",
      "[OK] \"вице адмирала что флот\" -> \"вице адмирала что флот\"\n",
      "[OK] \"господин посол\" -> \"господин посол\"\n",
      "[ERR:2] \"а особливо тѣ мѣста которыя учат\" -> \"а особливотѣ мѣ ста которыя учат\"\n",
      "[ERR:1] \"цертъ той отдачи\" -> \"цертътой отдачи\"\n",
      "[ERR:1] \"помяная туя буду\" -> \"помянаятуя буду\"\n",
      "[OK] \"i будете в том жестоко штрафо\" -> \"i будете в том жестоко штрафо\"\n",
      "[ERR:1] \"но дайте знат куды чтоб не замеш\" -> \"но дайте знаткуды чтоб не замеш\"\n",
      "[OK] \"нью кажнен будет i для того надобно iзяснит\" -> \"нью кажнен будет i для того надобно iзяснит\"\n",
      "[ERR:2] \"то хотя б на нѣсколко мартироф один\" -> \"то хотя б на нѣскол комартироф один\"\n",
      "[OK] \"бухта також сказал что суды всѣ от\" -> \"бухта також сказал что суды всѣ от\"\n",
      "[ERR:1] \"у iжоры такъже край которой свер\" -> \"у iжоры такъже край которой сер\"\n",
      "[ERR:1] \"с обоiх сторон отаковат а i\" -> \"собоiх сторон отаковат а i\"\n",
      "[OK] \"2\" -> \"2\"\n",
      "[ERR:1] \"вѣ iзготовит\" -> \"вѣ iз готовит\"\n",
      "[ERR:1] \"же мы люди старыя i не такофския\" -> \"жемы люди старыя i не такофския\"\n",
      "[ERR:7] \"муйтѣ i оного по а з беркъголцовой сто\" -> \"муйтѣлоногопо азберкъ голцовой сто\"\n",
      "[ERR:1] \"такожде i подле той земли\" -> \"такожде i подлетой земли\"\n",
      "[ERR:2] \"i зело\" -> \"4 дело\"\n",
      "[ERR:4] \"лейтънанту а с ним\" -> \"нейтънантю асним\"\n",
      "[ERR:1] \"по въведениi людей во оною не\" -> \"по въ ведениi людей во оною не\"\n",
      "[OK] \"3\" -> \"3\"\n",
      "[ERR:1] \"оною отаку как ниже\" -> \"оною отаку как ни же\"\n",
      "[ERR:2] \"о себѣ не могу подлин сказат буду ли\" -> \"о себѣ не могу подлинсказат будули\"\n",
      "[ERR:2] \"не въступат под смертною\" -> \"не въступат под сиертоою\"\n",
      "[OK] \"сестры\" -> \"сестры\"\n",
      "[ERR:1] \"ком сикурсѣ ежели тран\" -> \"ком сикурсѣм ежели тран\"\n",
      "[ERR:1] \"[но чтоб о сем нихто не вѣ\" -> \"[но чтоб о сем нихто невѣ\"\n",
      "[OK] \"ежели дастъ бог доброе\" -> \"ежели дастъ бог доброе\"\n",
      "[OK] \"силняя не будет какъ\" -> \"силняя не будет какъ\"\n",
      "[ERR:2] \"чтоб ко оному не пърис\" -> \"чтоб ко опому не пърию\"\n",
      "[ERR:1] \"ра iли iным далным\" -> \"раiли iным далным\"\n",
      "[ERR:2] \"сеца слава богу здорово i отсел поѣдет около\" -> \"сеца слава богу здорово i от сезл поѣдет около\"\n",
      "[ERR:2] \"обявъляем вам что мы здес намѣрены\" -> \"обявъляем вам что мы з деснамѣрены\"\n",
      "[OK] \"сюды iли\" -> \"сюды iли\"\n",
      "[OK] \"3\" -> \"3\"\n",
      "[ERR:2] \"ния желание вашего величества е\" -> \"ния желание вашего величествое\"\n",
      "[OK] \"+\" -> \"+\"\n",
      "[OK] \"мости адмирал что корол совершенно\" -> \"мости адмирал что корол совершенно\"\n",
      "[ERR:5] \"iз воронежа въ 21 д 1709\" -> \"iз воролежа въ н 1709\"\n",
      "[OK] \"2\" -> \"2\"\n",
      "[OK] \"дабы одною мѣлницею мож\" -> \"дабы одною мѣлницею мож\"\n",
      "[ERR:1] \"конференцию с вами допушен был i что можете\" -> \"конференцию свами допушен был i что можете\"\n",
      "[ERR:9] \"в руки i буде нелзя будет пройтит то по\" -> \"в руки i гуде 2нен забуда пройтит но по\"\n",
      "[OK] \"писмо ваше получил на которое отвѣт\" -> \"писмо ваше получил на которое отвѣт\"\n",
      "[OK] \"чтоб от нас чего не iсполнено было i чаю\" -> \"чтоб от нас чего не iсполнено было i чаю\"\n",
      "[ERR:5] \"донеси к в что [как [как уже пред сим мы писа\" -> \"донеси к в что [б гкак уже пред сим мыписа\"\n",
      "[ERR:6] \"в гаванѣ стоят потом когда сие здѣлано\" -> \"м га ванѣствя потом когда сне здѣлано\"\n",
      "[OK] \"ятел въ полшу пойдет\" -> \"ятел въ полшу пойдет\"\n",
      "[OK] \"покойство\" -> \"покойство\"\n",
      "[ERR:1] \"наверху носит может то а передѣ\" -> \"наверху но сит может то а передѣ\"\n",
      "[OK] \"i для а учинен янычарской ага\" -> \"i для а учинен янычарской ага\"\n",
      "[ERR:2] \"рит без уклонности за зло при\" -> \"рит без уклонности засло при\"\n",
      "[ERR:3] \"выбери конных человѣк ста два iли болше i поѣ\" -> \"выбериконных человѣкста два iли болше i пѣ\"\n",
      "[OK] \"петръ\" -> \"петръ\"\n",
      "[ERR:1] \"пополудни а когда хочешь полныя часы дѣ\" -> \"попоудни а когда хочешь полныя часы дѣ\"\n",
      "[OK] \"дежил шафирова что еже\" -> \"дежил шафирова что еже\"\n",
      "[ERR:1] \"неприятеля всѣми силами отаковат\" -> \"неприятеля всѣми силами о таковат\"\n",
      "[OK] \"15\" -> \"15\"\n",
      "[ERR:2] \"посылат i когда арифъметику скон\" -> \"посылат i когда а рифъ метику скон\"\n",
      "[ERR:1] \"того оных от стороны\" -> \"того оных отстороны\"\n",
      "[ERR:1] \"тву поздравъляем i нынѣ уже без сумнѣ\" -> \"твъ поздравъляем i нынѣ уже без сумнѣ\"\n",
      "[OK] \"2\" -> \"2\"\n",
      "[ERR:1] \"в финландию о той материi уже\" -> \"в финландию отой материi уже\"\n",
      "[ERR:1] \"того ради получа сие писмо\" -> \"того ради получасие писмо\"\n",
      "[OK] \"но оного с тѣм к нам отправъте дабы без поте\" -> \"но оного с тѣм к нам отправъте дабы без поте\"\n",
      "[ERR:3] \"[как в совѣтѣ по пишете для\" -> \"как воовѣтѣ по пишете для\"\n",
      "[ERR:1] \"пушекъ послат [iли как пойдете вам взят\" -> \"пушекъ послат [iли как пойдете вам взя\"\n",
      "[OK] \"которая здѣс також за благо принета\" -> \"которая здѣс також за благо принета\"\n",
      "[OK] \"пошли сие мы написали для того\" -> \"пошли сие мы написали для того\"\n",
      "[ERR:3] \"торой выдет iз за пълана е i дойдет до фи\" -> \"торой выдет iз запълана + i дойдет дофи\"\n",
      "[ERR:1] \"послат а не пѣхоты\" -> \"послат а непѣхоты\"\n",
      "[ERR:2] \"при штетине зимоват\" -> \"приштети не зимоват\"\n",
      "[ERR:4] \"чат учит гиаметрию столко сколко да iнже\" -> \"чат учит гиаметрир в толко сколко даiнже\"\n",
      "[OK] \"тогъда уже здѣс\" -> \"тогъда уже здѣс\"\n",
      "[OK] \"зу\" -> \"зу\"\n",
      "[ERR:2] \"спортѣ на ругенѣ\" -> \"спордтѣ наругенѣ\"\n",
      "[ERR:3] \"не скоро войски наши вышли а для чего то уже\" -> \"нескоро войски наши вышли адлячего то уже\"\n",
      "[ERR:1] \"осмотрѣт i посвидѣтелствоват\" -> \"осмотрѣт i по свидѣтелствоват\"\n",
      "[OK] \"аднакож хотя вся\" -> \"аднакож хотя вся\"\n",
      "[ERR:3] \"руки писмом в сенат к москвѣ для высыл\" -> \"руки писмо всенат к москвъ для высыл\"\n",
      "[OK] \"домость что везир переменен\" -> \"домость что везир переменен\"\n",
      "[OK] \"тауны iли 18 фунтовыя а протчия полубы\" -> \"тауны iли 18 фунтовыя а протчия полубы\"\n",
      "[ERR:4] \"росдение о оучреждени здѣшняго флота\" -> \"росоджение о о учреждени здѣшня го флота\"\n",
      "[ERR:2] \"доброму случаю i того ради и гдѣ\" -> \"доброму случаю i того ради гдѣ\"\n",
      "[ERR:2] \"выя за iх денги а шляхетству дворы i земли под\" -> \"выязаiх денги а шляхетству дворы i земли под\"\n",
      "[ERR:2] \"пока сойдет работа а потом от\" -> \"пока сойздет работа а потом о\"\n",
      "[OK] \"лат на что по совѣту ва\" -> \"лат на что по совѣту ва\"\n",
      "[ERR:2] \"чит кого то половина штрофа в казну а другая\" -> \"чит кого то половина штро фа в казну п другая\"\n",
      "[ERR:2] \"по фъсѣм обстоятелствам\" -> \"пофъсѣ обстоятелствам\"\n",
      "[ERR:1] \"ху пошел въ 1710 году] дойтит морем ар\" -> \"ху пошел въ 1710году] дойтит морем ар\"\n",
      "[ERR:3] \"стороны iз них же которым обѣщат\" -> \"сторона iзних же которым овѣщат\"\n",
      "[ERR:3] \"вьте це\" -> \"въ теце\"\n",
      "[OK] \"iз государства турского выслан\" -> \"iз государства турского выслан\"\n",
      "[ERR:7] \"сие въсе держат тайно чтоб непъриятел\" -> \"сие въседержа тайно чтоб неаври ете\"\n",
      "[OK] \"жит а iменно первое что\" -> \"жит а iменно первое что\"\n",
      "[ERR:1] \"iли ежели ево не застанут то хто\" -> \"iли ежели евъ не застанут то хто\"\n",
      "[ERR:1] \"мы по пъразникѣ успения богородицы чаем\" -> \"мы по пъразникѣ упения богородицы чаем\"\n",
      "[ERR:1] \"по оным буде же нѣт\" -> \"по оным буде женѣт\"\n",
      "[ERR:1] \"будет толко зело с неудоволством слышим\" -> \"будет толко зело с не удоволством слышим\"\n",
      "[ERR:2] \"на своiх дѣнгах i хълѣбѣ\" -> \"насвоiх дѣнгах iхълѣбѣ\"\n",
      "[ERR:1] \"девятаго числа iли шестаго декабря\" -> \"девя таго числа iли шестаго декабря\"\n",
      "[OK] \"далее\" -> \"далее\"\n",
      "[ERR:2] \"опасения i дѣлат по своему\" -> \"опасения i дѣлат по сваму\"\n",
      "[ERR:7] \"по ся поры ни одного не присыла\" -> \"посяпорыниодного прприсыла\"\n",
      "[OK] \"равъной важности сему\" -> \"равъной важности сему\"\n",
      "[ERR:9] \"господин в а  опасаетца каралевъского\" -> \"гопофин в а опосиетца каралевъквi\"\n",
      "[ERR:2] \"отвѣтстъвуюм сто\" -> \"отвѣтствуюр сто\"\n",
      "[ERR:1] \"указом зело зело жал что въремя про\" -> \"указом зело зеле жал что въремя про\"\n",
      "[ERR:5] \"а как сие писмо получиш поезжай сю\" -> \" как сие писмо получин поежайсъ\"\n",
      "[ERR:2] \"чтоб тѣм принудит непъ\" -> \"чтоб ѣм принудит не пъ\"\n",
      "[ERR:2] \"а со фсем непръриятел более более\" -> \"а софсем непъриятел более более\"\n",
      "[ERR:4] \"неват до тѣх мѣстъ пока великой починки тре\" -> \"неват дотѣх мѣстъ по ка великой починкитрi\"\n",
      "[OK] \"тах обрѣтаютца\" -> \"тах обрѣтаютца\"\n",
      "[ERR:1] \"товых не iмѣем i что ку\" -> \"товых не iмѣем i чтоку\"\n",
      "[ERR:2] \"дубликат i трипликат посланы\" -> \"дубликат i три прикат посланы\"\n",
      "[ERR:3] \"господин амбасадер\" -> \"господин вамбаодер\"\n",
      "[ERR:1] \"хором прокопон\" -> \"хором проко пон\"\n",
      "[ERR:2] \"как я говорил чему всѣ согласилис мое таварыщи\" -> \"как я говорил чему всѣ согла силис мое тавары щи\"\n",
      "[OK] \"ли наши войски возвратят\" -> \"ли наши войски возвратят\"\n",
      "[ERR:6] \"хлѣбом i протчим удоволствоват на год i болше\" -> \"хлѣ бом i протчим удоволствоват нагод iбѣшег\"\n",
      "[OK] \"государственном\" -> \"государственном\"\n",
      "[ERR:3] \"боват буду а когда до великой починки дойдет тогда\" -> \"боват буду а когда довеликой почитки дойздет тогда\"\n",
      "[ERR:5] \"буду[чем [о чем могожды господину фистуну гово\" -> \"буду [ чем [о чем могожды господину фустунуговъ\"\n",
      "[ERR:3] \"i тогъда труднѣе iх iз так дале\" -> \"i товъда трудднѣен iх iз так дале\"\n",
      "[OK] \"оному прибавит а дабыват тѣм кор\" -> \"оному прибавит а дабыват тѣм кор\"\n",
      "[ERR:3] \"дѣло ваше окончаетца а не ны\" -> \"дѣло ваше олочаетца а нены\"\n",
      "[ERR:5] \"пушек ту тѣхъ iзподние въ 12 фунтоф ядры\" -> \"пушек ту тѣхъ iз подние въ 12 фустоф здд\"\n",
      "[ERR:2] \"нам здес зело докучает аднакож для\" -> \"нам здес зело до куает аднакож для\"\n",
      "[ERR:4] \"тако ж ежели салтан i че\" -> \"також ежели солтас а че\"\n",
      "[ERR:2] \"содержат до весны куды трас\" -> \"содержат довесна куды трас\"\n",
      "[ERR:10] \"для того iногда лучитца что прибавит iли уба\" -> \"длятогъ iног валучитца сто прибавит iлизят\"\n",
      "[ERR:4] \"что же о войскѣ выводѣ\" -> \"что же о войшъ высводѣ\"\n",
      "[ERR:3] \"товит на оных а когда\" -> \"товит наривых а когда\"\n",
      "[ERR:1] \"писмо вашего величества я получил на приѣздъ\" -> \"писмо вашеговеличества я получил на приѣздъ\"\n",
      "[OK] \"такожде свое разсуждение оному\" -> \"такожде свое разсуждение оному\"\n",
      "[OK] \"ния пристаней а когда на\" -> \"ния пристаней а когда на\"\n",
      "[ERR:1] \"нее безопасным ли путем\" -> \"нее без опасным ли путем\"\n",
      "[OK] \"7\" -> \"7\"\n",
      "[ERR:2] \"мистроф i протчих урядникоф у фъсѣх\" -> \"мистроф i протчих урядникоф г фъсѣ\"\n",
      "[ERR:1] \"катеринушка друг мой здравъствуй\" -> \"катерину шка друг мой здравъствуй\"\n",
      "[ERR:3] \"чтоб iзволил поспѣшит к рекѣ\" -> \"чтоб iволл поспѣшит крекѣ\"\n",
      "[ERR:6] \"ду оную дружбу далее прос\" -> \"ду о нусот друж будалее прос\"\n",
      "[ERR:1] \"лутче держатца апостола которой к таким пи\" -> \"лутче держатца а постола которой к таким пи\"\n",
      "[OK] \"+\" -> \"+\"\n",
      "[ERR:4] \"надлежит как у воевод так у бур\" -> \"надлежит как увоевод так убо\"\n",
      "[ERR:1] \"[въшеписанныя] двойным числом потписават\" -> \"[въшеписанныя] двойным числом пот писават\"\n",
      "[OK] \"также i рекърут чтоб губерната\" -> \"также i рекърут чтоб губерната\"\n",
      "[ERR:4] \"матка здравъствуй\" -> \"ме кездравъствуй\"\n",
      "[OK] \"лат сюды для презенту другим i сие пот\" -> \"лат сюды для презенту другим i сие пот\"\n",
      "[ERR:4] \"а о разделенi iх надлежит учинит\" -> \"а оразделег i iх надлежит уччинит\"\n",
      "[ERR:2] \"1712 ря\" -> \"1712+ри\"\n",
      "[OK] \"вали i я сам буду ежели\" -> \"вали i я сам буду ежели\"\n",
      "[ERR:5] \"датской но эр г виновен\" -> \"датской но 9д г вновоф\"\n",
      "[OK] \"к штетину iбо несытыя салдаты\" -> \"к штетину iбо несытыя салдаты\"\n",
      "[ERR:3] \"i воiнской резон допустит] i там себя\" -> \"i воiнсской резондопусти] i там себя\"\n",
      "[ERR:6] \"а не нарочно iскать]\" -> \"ве нинарочно iкато]\"\n",
      "[ERR:3] \"корол датской вступил в померанию i въ росто\" -> \"корол датской вступил в померанию i въротог\"\n",
      "[ERR:3] \"возит на берег i весною по полой водѣ\" -> \"водит на берег i ведснаю по полой водѣ\"\n",
      "[OK] \"боже чтоб еще болше того\" -> \"боже чтоб еще болше того\"\n",
      "[ERR:2] \"корпус вспоможен был в прой\" -> \"корпус вспоможен был врой\"\n",
      "[OK] \"+\" -> \"+\"\n",
      "[ERR:3] \"i для того всем таваром поло\" -> \"i для того всѣйтаваром поло\"\n",
      "[ERR:1] \"было\" -> \"былъ\"\n",
      "[OK] \"делит\" -> \"делит\"\n",
      "[OK] \"дватцат\" -> \"дватцат\"\n",
      "[ERR:1] \"увѣдаем\" -> \"двѣдаем\"\n",
      "[ERR:3] \"берега разорит можем другое хуже\" -> \"берега рзорит можем оругое луже\"\n",
      "[ERR:3] \"з генералом фмкм под командою\" -> \"з генералом ф м к м под командою\"\n",
      "[OK] \"г п\" -> \"г п\"\n",
      "[ERR:2] \"с влхонским\" -> \"свллонским\"\n",
      "[ERR:3] \"чтоб вице адмирал сегестет с воiнскими\" -> \"чтоб вице адмирал е гестет своiнскими\"\n",
      "[ERR:4] \"iмена посылаю при сем] чего для надлежит\" -> \"iмена посываю присе] чего для падлежит\"\n",
      "[ERR:2] \"эшкадра мы зело радуемся i сим добрым случаем\" -> \"э шкабра мы зело радуемся i сим добрым случаем\"\n",
      "[OK] \"титца могли а как придут тотчас\" -> \"титца могли а как придут тотчас\"\n",
      "[OK] \"все войско конное i пѣще с согласия\" -> \"все войско конное i пѣще с согласия\"\n",
      "[OK] \"чи\" -> \"чи\"\n",
      "[ERR:5] \"iбо вышереченно герцох\" -> \"iбо выше реченногецо ж\"\n",
      "[ERR:7] \"по том отступълениi на третей дѣн прибылъ\" -> \"потом отстопълениi натрттйден прибылъ\"\n",
      "[ERR:6] \"е преступъление будет писат губернатором\" -> \"е престиупърение будем писат губеркаторо i\"\n",
      "[ERR:1] \"i караблей i так а выслат сих лутче сухим\" -> \"i караблей i така выслат сих лутче сухим\"\n",
      "[ERR:5] \"уготовълениях к будушей компаниi]\" -> \"уготовълениях бунду вшей компаниi]\"\n",
      "[OK] \"зит\" -> \"зит\"\n",
      "[ERR:1] \"ские войски iх которому числу дабы вѣ\" -> \"ские войски iх которому числу дабывѣ\"\n",
      "[ERR:3] \"сей корпус ц в оставъляет до февъраля мѣсеца\" -> \"сезй корпусцв оставъляет до февъраля мѣсеца\"\n",
      "[ERR:2] \"шого канца но сим образом когъда я\" -> \"шого канца носим образом когъдая\"\n",
      "[ERR:2] \"ной мир учинят тогда з голштендиi княж\" -> \"ной миручинят тогда з голштендиi к няж\"\n",
      "[ERR:4] \"к болшому пасу увѣдомит вас а не получа от вас\" -> \"к болшому пасу у вѣдомит вас а не получа овис\"\n",
      "[ERR:3] \"с котлина въ 28 д апърѣля 1712\" -> \"скотли на въ 2о д апърѣля 1712\"\n",
      "[ERR:6] \"жели на чем дойдет до того на чем от\" -> \"жели на дойден до того начем от\"\n",
      "[ERR:2] \"хотя мы силны но как\" -> \"хотя ма силны ко как\"\n",
      "[ERR:1] \"какие с турецъкой стороны добрыя\" -> \"какие стурецъкой стороны добрыя\"\n",
      "[ERR:2] \"+ во въсѣх дѣлех\" -> \"+ ва въсѣх дѣлел\"\n",
      "[ERR:1] \"сентебря 1709\" -> \"сентебрях 1709\"\n",
      "[ERR:1] \"iли по нужде осени дабы оныя\" -> \"iлипо нужде осени дабы оныя\"\n",
      "[ERR:3] \"петръ\" -> \"дет въ\"\n",
      "[ERR:9] \"⊗ которой троеуголникъ а в н будет  [iз метала\" -> \" которой трое уголникъ 1 ф ш бодет [iз ретана\"\n",
      "[OK] \"которой в пришлую вес\" -> \"которой в пришлую вес\"\n",
      "[OK] \"4\" -> \"4\"\n",
      "[ERR:1] \"лил а iменно около 5000\" -> \"лил а менно около 5000\"\n",
      "[ERR:1] \"чтоб вы подредили в полше ду\" -> \"чтоб вы подредили в полшеду\"\n",
      "[ERR:13] \"въ 28 д сего мѣсяца без всякого сопъроти\" -> \"въ 2 д8 свомѣ седабен всякого одороти\"\n",
      "[ERR:1] \"лем хотя б протиф всякого\" -> \"лем хотя б протиф всяког\"\n",
      "[ERR:5] \"i по тровѣ к абау iтит для чего\" -> \"i потровѣка бау iти для чего\"\n",
      "[OK] \"господин +\" -> \"господин +\"\n",
      "[ERR:1] \"но меня горазда сумнило когда\" -> \"но меня горазда сум нило когда\"\n",
      "[OK] \"указо оного за его рукою штрофу по деся\" -> \"указо оного за его рукою штрофу по деся\"\n",
      "[ERR:6] \"бы брак тшери вашей i чтоб зятю ва\" -> \"бы брак к шери вашшей i чупоб зятъ ва\"\n",
      "[ERR:1] \"ной синявин iзвол в том скорой\" -> \"ной синявин iз вол в том скорой\"\n",
      "[ERR:2] \"славим бога что не великой урон а iмен\" -> \"славим бога что не великой урон а сме\"\n",
      "[ERR:3] \"отдат чего чаю к в нам\" -> \"от дат чего чают к врнам\"\n",
      "[ERR:1] \"мой нужды i учинено того ра\" -> \"мой нужды i учинено тогора\"\n",
      "[ERR:4] \"но пойдет iзвѣсная персона ко\" -> \"но пойдет iзвѣсжая перонко\"\n",
      "[ERR:5] \"домой ежели не потребен\" -> \"вомой ежели ншкпотрбет\"\n",
      "[ERR:3] \"скую [для чего посылаем к вам пункты е\" -> \"ску югдля чего посылаем к вам пункты е\"\n",
      "[OK] \"бус\" -> \"бус\"\n",
      "[OK] \"ку непъриятеля о чем чаю уж\" -> \"ку непъриятеля о чем чаю уж\"\n",
      "[ERR:2] \"в торнъ зело прошу дабы iсправъле\" -> \"втторнъ зело прошу давы iсправъле\"\n",
      "[ERR:1] \"что ежели iнгермонланской i астра\" -> \"что ежели iнгермоланской i астра\"\n",
      "[ERR:2] \"росходоф i ненужныя а особливо\" -> \"росподоф i ненужны я а особливо\"\n",
      "[ERR:2] \"въ полшу чрез полшу еже\" -> \"въ ъсолшу чрез полшу еже\"\n",
      "[OK] \"ляемся что вы такое писмо дали\" -> \"ляемся что вы такое писмо дали\"\n",
      "[OK] \"ше б наша была пъравъда не у\" -> \"ше б наша была пъравъда не у\"\n",
      "[ERR:3] \"+ также ежели на\" -> \"+ так жежели на\"\n",
      "[ERR:2] \"ства особливой пол\" -> \"ства есобли вой пол\"\n",
      "[ERR:1] \"+ мы писменнойе указ дали сенату\" -> \"+ мы писменной указ дали сенату\"\n",
      "[OK] \"рожно в том пус\" -> \"рожно в том пус\"\n",
      "[ERR:3] \"в запас доволное число дасок правъле\" -> \"в запас доволное число да вокправъле\"\n",
      "[ERR:1] \"мѣсно надѣюсь но нынѣ незап\" -> \"мѣсно надѣюсь но нынѣ незак\"\n",
      "Character error rate: 8.517520%. Word error rate: 39.205607%. String accuracy: 27.027027%.\n"
     ]
    }
   ],
   "source": [
    "numCharErr = 0\n",
    "numCharTotal = 0\n",
    "numStringOK = 0\n",
    "numStringTotal = 0\n",
    "\n",
    "word_eds, word_true_lens = [], []\n",
    "\n",
    "print('Ground truth -> Recognized')\t\n",
    "for i in range(len(out)):\n",
    "    pred = ''\n",
    "    for p in out[i]:\n",
    "        if int(p) != -1:\n",
    "            pred+=letters[int(p)]\n",
    "    true = val_original_text[i]\n",
    "    \n",
    "    numStringOK += 1 if true == pred else 0\n",
    "    numStringTotal += 1\n",
    "    dist = editdistance.eval(pred, true)\n",
    "    numCharErr += dist\n",
    "    numCharTotal += len(true)\n",
    "    \n",
    "    pred_words = pred.split()\n",
    "    true_words = true.split()\n",
    "    word_eds.append(editdistance.eval(pred_words, true_words))\n",
    "    word_true_lens.append(len(true_words))\n",
    "    \n",
    "    print('[OK]' if dist==0 else '[ERR:%d]' % dist,'\"' + true + '\"', '->', '\"' + pred + '\"')\n",
    "\n",
    "charErrorRate = numCharErr / numCharTotal\n",
    "wordErrorRate = sum(word_eds) / sum(word_true_lens) \n",
    "stringAccuracy = numStringOK / numStringTotal\n",
    "print('Character error rate: %f%%. Word error rate: %f%%. String accuracy: %f%%.' % \\\n",
    "      (charErrorRate*100.0,wordErrorRate*100.0, stringAccuracy*100.0))"
   ]
  },
  {
   "cell_type": "markdown",
   "metadata": {
    "colab_type": "text",
    "id": "YYYcvo6wj79W"
   },
   "source": [
    "**Загружаем тестовые изображения, делаем предсказания и записываем их в файл.**"
   ]
  },
  {
   "cell_type": "markdown",
   "metadata": {},
   "source": [
    "Этот ноутбук - публичный бейзлайн. Тестовая выборка будет автоматически подкладываться в образ, куда участник загрузит модель. Поэтому сейчас следующие строчки закомменчены. И пример запуска модели и записи предсказаний в файл будет проведен на валидационных изображениях."
   ]
  },
  {
   "cell_type": "code",
   "execution_count": 37,
   "metadata": {},
   "outputs": [],
   "source": [
    "#Для примера работы запуска модели и записи в файл, пусть валидация станет тестовыми изображениями\n",
    "test_images = val_images"
   ]
  },
  {
   "cell_type": "code",
   "execution_count": 38,
   "metadata": {},
   "outputs": [],
   "source": [
    "#test_image_dir = 'test/images'"
   ]
  },
  {
   "cell_type": "code",
   "execution_count": 39,
   "metadata": {},
   "outputs": [],
   "source": [
    "# test_images = []\n",
    "\n",
    "# for name in  os.listdir(test_image_dir):\n",
    "#     img = cv2.imread(test_image_dir+'/'+name)\n",
    "#     img = process_image(img)\n",
    "#     test_images.append(img)\n",
    "# test_images = np.asarray(test_images)"
   ]
  },
  {
   "cell_type": "code",
   "execution_count": 40,
   "metadata": {
    "colab": {
     "base_uri": "https://localhost:8080/",
     "height": 19072
    },
    "colab_type": "code",
    "id": "MXzTQlMeEjwB",
    "outputId": "24ac79db-6b33-45f0-fd93-f7fcd3f6c991",
    "scrolled": false
   },
   "outputs": [
    {
     "name": "stdout",
     "output_type": "stream",
     "text": [
      "2.049828052520752\n"
     ]
    }
   ],
   "source": [
    "start = time.time()\n",
    "\n",
    "prediction =act_model.predict(test_images)\n",
    " \n",
    "decoded = K.ctc_decode(prediction,   \n",
    "                       input_length=np.ones(prediction.shape[0]) * prediction.shape[1],\n",
    "                       greedy=True)[0][0]\n",
    "\n",
    "out = K.get_value(decoded)\n",
    "\n",
    "prediction = []\n",
    "for i, x in enumerate(out):\n",
    "    pred = ''\n",
    "    for p in x:\n",
    "        if int(p) != -1:\n",
    "            pred+=letters[int(p)]\n",
    "            \n",
    "    prediction.append(pred)\n",
    "end = time.time()\n",
    "print(end - start)"
   ]
  },
  {
   "cell_type": "code",
   "execution_count": 41,
   "metadata": {},
   "outputs": [
    {
     "data": {
      "text/plain": [
       "407"
      ]
     },
     "execution_count": 41,
     "metadata": {},
     "output_type": "execute_result"
    }
   ],
   "source": [
    "len(prediction)"
   ]
  },
  {
   "cell_type": "code",
   "execution_count": 42,
   "metadata": {},
   "outputs": [],
   "source": [
    "file = open(\"pred.txt\", \"w\")\n",
    "for num,line in enumerate(prediction):\n",
    "    file.write(line)\n",
    "    if num+1!=len(prediction):\n",
    "        file.write(\"\\n\")\n",
    "file.close()"
   ]
  }
 ],
 "metadata": {
  "accelerator": "GPU",
  "colab": {
   "name": "HTR_USING_CRNN.ipynb",
   "provenance": []
  },
  "kernelspec": {
   "display_name": "Python 3",
   "language": "python",
   "name": "python3"
  },
  "language_info": {
   "codemirror_mode": {
    "name": "ipython",
    "version": 3
   },
   "file_extension": ".py",
   "mimetype": "text/x-python",
   "name": "python",
   "nbconvert_exporter": "python",
   "pygments_lexer": "ipython3",
   "version": "3.8.5"
  }
 },
 "nbformat": 4,
 "nbformat_minor": 4
}
